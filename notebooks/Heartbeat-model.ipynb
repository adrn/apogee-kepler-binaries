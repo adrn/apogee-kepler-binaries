{
 "cells": [
  {
   "cell_type": "code",
   "execution_count": null,
   "metadata": {},
   "outputs": [],
   "source": [
    "import os\n",
    "\n",
    "from astropy.time import Time\n",
    "import astropy.coordinates as coord\n",
    "import astropy.units as u\n",
    "\n",
    "import matplotlib as mpl\n",
    "import matplotlib.pyplot as plt\n",
    "%matplotlib inline\n",
    "import numpy as np\n",
    "from tqdm.notebook import tqdm\n",
    "\n",
    "from twobody import TwoBodyKeplerElements, KeplerOrbit\n",
    "from twobody import (eccentric_anomaly_from_mean_anomaly, \n",
    "                     true_anomaly_from_eccentric_anomaly)"
   ]
  },
  {
   "cell_type": "code",
   "execution_count": null,
   "metadata": {},
   "outputs": [],
   "source": [
    "def true_anomaly(orbit, time):\n",
    "    # mean anomaly\n",
    "    with u.set_enabled_equivalencies(u.dimensionless_angles()):\n",
    "        M = 2*np.pi * (time.tcb - orbit.t0.tcb) / orbit.P - orbit.M0\n",
    "        M = M.to(u.radian)\n",
    "\n",
    "    # eccentric anomaly\n",
    "    E = eccentric_anomaly_from_mean_anomaly(M, orbit.e)\n",
    "\n",
    "    # true anomaly\n",
    "    return true_anomaly_from_eccentric_anomaly(E, orbit.e)"
   ]
  },
  {
   "cell_type": "code",
   "execution_count": null,
   "metadata": {},
   "outputs": [],
   "source": [
    "def hb_model(S, i, omega, f, R, a):\n",
    "    num = 1 - 3*np.sin(i)**2 * np.sin(f - omega)**2\n",
    "    den = (R / a) ** 3\n",
    "    return S * num / den"
   ]
  },
  {
   "cell_type": "code",
   "execution_count": null,
   "metadata": {},
   "outputs": [],
   "source": [
    "P = 20 * u.day\n",
    "e = 0.5\n",
    "S = 1.\n",
    "\n",
    "epoch = Time(Time.now().mjd, format='mjd')\n",
    "t = epoch + np.linspace(0, P.value, 8192)"
   ]
  },
  {
   "cell_type": "code",
   "execution_count": null,
   "metadata": {},
   "outputs": [],
   "source": [
    "for e in [0.3, 0.5, 0.7]:\n",
    "    fig, axes = plt.subplots(6, 6, figsize=(16, 16), \n",
    "                             sharex=True, sharey=True,\n",
    "                             constrained_layout=True)\n",
    "\n",
    "    n = 0\n",
    "    omegas = np.linspace(-90, 90, axes.shape[0]) * u.deg\n",
    "    incls = np.linspace(6, 90, axes.shape[0]) * u.deg\n",
    "    for omega in omegas:\n",
    "        for incl in incls:\n",
    "            ax = axes.flat[n]\n",
    "\n",
    "            elem = TwoBodyKeplerElements(P=P, e=e, \n",
    "                                         m1=1.*u.Msun, m2=0.25*u.Msun,\n",
    "                                         omega=omega, i=incl,\n",
    "                                         t0=epoch)\n",
    "            orbit1 = KeplerOrbit(elem.primary)\n",
    "            orbit2 = KeplerOrbit(elem.secondary)\n",
    "\n",
    "            x1 = orbit1.reference_plane(t)\n",
    "            x2 = orbit2.reference_plane(t)\n",
    "\n",
    "            R = (x1.data.without_differentials() - x2.data.without_differentials()).norm()\n",
    "            a = elem.a\n",
    "            f = true_anomaly(orbit1, t)\n",
    "\n",
    "            phase = ((t.mjd - t.mjd.min()) / P.to_value(u.day) + 0.5) % 1 - 0.5\n",
    "            y = hb_model(S, elem.i, elem.omega, f, R, a)\n",
    "            y = y[phase.argsort()]\n",
    "            phase = phase[phase.argsort()]\n",
    "            ax.plot(phase, y, marker='', ls='-', lw=2, color='k')\n",
    "            ax.plot(phase - 1, y, marker='', ls='-', lw=2, color='k')\n",
    "            ax.plot(phase + 1, y, marker='', ls='-', lw=2, color='k')\n",
    "            ax.axhline(0, marker='', zorder=-100, \n",
    "                       color='tab:blue', alpha=0.2)\n",
    "\n",
    "            # plt.setp(ax.get_xticklabels(), fontsize=8)\n",
    "            # plt.setp(ax.get_yticklabels(), fontsize=8)\n",
    "            ax.xaxis.set_visible(False)\n",
    "            ax.yaxis.set_visible(False)\n",
    "\n",
    "            n += 1\n",
    "            \n",
    "    ax.set_xlim(-0.75, 0.75)\n",
    "    \n",
    "    n = 0\n",
    "    for omega in omegas:\n",
    "        for incl in incls:\n",
    "            ax = axes.flat[n]\n",
    "            \n",
    "            xlim = ax.get_xlim()\n",
    "            xspan = xlim[1] - xlim[0]\n",
    "            ylim = ax.get_ylim()\n",
    "            yspan = ylim[1] - ylim[0]\n",
    "            ax.text(xlim[0] + 0.05 * xspan, \n",
    "                    ylim[0] + 0.05 * yspan, \n",
    "                    (rf'$\\omega = {omega.value:.1f}^\\circ$' + \n",
    "                     f'\\n$i = {incl.value:.0f}^\\circ$'),\n",
    "                    ha='left', va='bottom', fontsize=12)\n",
    "            \n",
    "            n += 1\n",
    "\n",
    "    fig.suptitle(f'$e={e:.1f}$', fontsize=16)\n",
    "    fig.set_facecolor('w')"
   ]
  },
  {
   "cell_type": "code",
   "execution_count": null,
   "metadata": {},
   "outputs": [],
   "source": []
  },
  {
   "cell_type": "code",
   "execution_count": null,
   "metadata": {},
   "outputs": [],
   "source": []
  }
 ],
 "metadata": {
  "kernelspec": {
   "display_name": "conda-hq",
   "language": "python",
   "name": "conda-hq"
  },
  "language_info": {
   "codemirror_mode": {
    "name": "ipython",
    "version": 3
   },
   "file_extension": ".py",
   "mimetype": "text/x-python",
   "name": "python",
   "nbconvert_exporter": "python",
   "pygments_lexer": "ipython3",
   "version": "3.7.5"
  }
 },
 "nbformat": 4,
 "nbformat_minor": 4
}
