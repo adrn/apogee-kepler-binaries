{
 "cells": [
  {
   "cell_type": "code",
   "execution_count": null,
   "metadata": {},
   "outputs": [],
   "source": [
    "import os\n",
    "\n",
    "from astropy.io import fits\n",
    "import astropy.table as at\n",
    "import astropy.coordinates as coord\n",
    "import astropy.units as u\n",
    "\n",
    "import h5py\n",
    "import matplotlib as mpl\n",
    "import matplotlib.pyplot as plt\n",
    "%matplotlib inline\n",
    "import numpy as np\n",
    "from tqdm.notebook import tqdm\n",
    "import thejoker as tj\n",
    "import lightkurve as lk\n",
    "\n",
    "import pymc3 as pm\n",
    "import theano.tensor as tt\n",
    "import exoplanet as xo\n",
    "\n",
    "from hq.data import get_rvdata\n",
    "from hq.samples_analysis import extract_MAP_sample"
   ]
  },
  {
   "cell_type": "code",
   "execution_count": null,
   "metadata": {},
   "outputs": [],
   "source": [
    "kepid = 'KIC 11359305'\n",
    "apid = '2M19435622+4907488'"
   ]
  },
  {
   "cell_type": "code",
   "execution_count": null,
   "metadata": {},
   "outputs": [],
   "source": [
    "allvisit = fits.getdata('/mnt/home/apricewhelan/data/APOGEE_DR16/allVisit-r12-l33.fits')\n",
    "binaries = at.QTable(at.Table.read('../catalogs/lnK0.0_logL4.6_metadata_gaia_starhorse.fits').filled())\n",
    "row = binaries[binaries['APOGEE_ID'] == apid]"
   ]
  },
  {
   "cell_type": "code",
   "execution_count": null,
   "metadata": {},
   "outputs": [],
   "source": [
    "visits = allvisit[allvisit['APOGEE_ID'] == apid]\n",
    "rv_data = get_rvdata(visits)"
   ]
  },
  {
   "cell_type": "code",
   "execution_count": null,
   "metadata": {},
   "outputs": [],
   "source": [
    "sample = extract_MAP_sample(row)\n",
    "_ = tj.plot_phase_fold(data=rv_data, sample=sample)"
   ]
  },
  {
   "cell_type": "code",
   "execution_count": null,
   "metadata": {},
   "outputs": [],
   "source": [
    "lcfs = lk.search_lightcurvefile(kepid, mission='Kepler').download_all()\n",
    "stitched_lc = lcfs.PDCSAP_FLUX.stitch()"
   ]
  },
  {
   "cell_type": "code",
   "execution_count": null,
   "metadata": {},
   "outputs": [],
   "source": [
    "# From DFM!\n",
    "with lcfs[0].hdu as hdu:\n",
    "    tpf_hdr = hdu[1].header\n",
    "texp = tpf_hdr[\"FRAMETIM\"] * tpf_hdr[\"NUM_FRM\"]\n",
    "texp /= 60.0 * 60.0 * 24.0  # days"
   ]
  },
  {
   "cell_type": "code",
   "execution_count": null,
   "metadata": {},
   "outputs": [],
   "source": [
    "fig, ax = plt.subplots(1, 1, figsize=(14, 6))\n",
    "ax.plot(stitched_lc.astropy_time.tcb.jd,\n",
    "        stitched_lc.flux,\n",
    "        marker='o', ls='none', mew=0, ms=1.5, alpha=0.5)\n",
    "\n",
    "MAD = np.nanmedian(np.abs(stitched_lc.flux - np.nanmedian(stitched_lc.flux)))\n",
    "std = 1.5 * MAD\n",
    "mask = (stitched_lc.flux - 1) < 4*std\n",
    "ax.plot(stitched_lc.astropy_time.tcb.jd[~mask],\n",
    "        stitched_lc.flux[~mask],\n",
    "        marker='x', mew=2, ls='none', ms=8, color='r', zorder=10)\n",
    "\n",
    "lc = stitched_lc[mask]"
   ]
  },
  {
   "cell_type": "code",
   "execution_count": null,
   "metadata": {},
   "outputs": [],
   "source": [
    "# Convert to parts per thousand\n",
    "x = lc.astropy_time.tcb.jd\n",
    "y = lc.flux\n",
    "mu = np.median(y)\n",
    "y = (y / mu - 1) * 1e3\n",
    "yerr = lc.flux_err * 1e3\n",
    "\n",
    "x_ref = np.min(x)\n",
    "x = x - x_ref"
   ]
  },
  {
   "cell_type": "code",
   "execution_count": null,
   "metadata": {},
   "outputs": [],
   "source": [
    "len(x)"
   ]
  },
  {
   "cell_type": "code",
   "execution_count": null,
   "metadata": {},
   "outputs": [],
   "source": [
    "fig, ax = plt.subplots(1, 1, figsize=(14, 6))\n",
    "ax.plot(x, y,\n",
    "        marker='o', ls='none', mew=0, ms=1.5, alpha=0.5)\n",
    "ax.set_xlim(0, 500)"
   ]
  },
  {
   "cell_type": "markdown",
   "metadata": {},
   "source": [
    "Radial velocity data, relative to the same reference time:"
   ]
  },
  {
   "cell_type": "code",
   "execution_count": null,
   "metadata": {},
   "outputs": [],
   "source": [
    "x_rv = rv_data.t.tcb.jd - x_ref\n",
    "y_rv = (rv_data.rv - row['MAP_v0'][0]).to_value(u.m/u.s)\n",
    "yerr_rv = rv_data.rv_err.to_value(u.m/u.s)\n",
    "mean_rv = np.mean(y_rv)"
   ]
  },
  {
   "cell_type": "code",
   "execution_count": null,
   "metadata": {},
   "outputs": [],
   "source": [
    "fig, ax = plt.subplots(1, 1, figsize=(12, 6))\n",
    "phase = (lc.time / row['MAP_P'].value * 1.) % 1.\n",
    "cc = ax.scatter(phase, lc.flux, c=lc.time,\n",
    "                s=1, alpha=0.4, lw=1)\n",
    "ax.set_xlabel('Phase')\n",
    "ax.set_ylabel('Normalized Flux')\n",
    "cb = fig.colorbar(cc)\n",
    "cb.set_label('Kepler time', fontsize=14)\n",
    "fig.set_facecolor('w')\n",
    "fig.tight_layout()"
   ]
  },
  {
   "cell_type": "code",
   "execution_count": null,
   "metadata": {},
   "outputs": [],
   "source": [
    "from astropy.timeseries import BoxLeastSquares\n",
    "\n",
    "m = np.zeros(len(x), dtype=bool)\n",
    "period_grid = np.exp(np.linspace(np.log(sample['P'][0].value)-0.5, \n",
    "                                 np.log(sample['P'][0].value)+0.5, \n",
    "                                 10000))\n",
    "\n",
    "bls = BoxLeastSquares(x[~m], y[~m])\n",
    "bls_power = bls.power(period_grid, 0.1, oversample=20)\n",
    "\n",
    "# Save the highest peak as the planet candidate\n",
    "index = np.argmax(bls_power.power)\n",
    "bls_period = bls_power.period[index]\n",
    "bls_t0 = bls_power.transit_time[index]\n",
    "bls_depth = bls_power.depth[index]"
   ]
  },
  {
   "cell_type": "code",
   "execution_count": null,
   "metadata": {},
   "outputs": [],
   "source": [
    "fig, ax = plt.subplots(1, 1, figsize=(14, 6))\n",
    "ax.plot(x, y,\n",
    "        marker='o', ls='none', mew=0, ms=1.5, alpha=0.5)\n",
    "ax.set_xlim(0, 200)\n",
    "for i in range(10):\n",
    "    ax.axvline(bls_t0 + i*bls_period, color='tab:red', alpha=0.25)"
   ]
  },
  {
   "cell_type": "code",
   "execution_count": null,
   "metadata": {},
   "outputs": [],
   "source": [
    "results = xo.estimators.lomb_scargle_estimator(\n",
    "    x, y, max_peaks=1, min_period=10.0, max_period=100.0, samples_per_peak=50\n",
    ")\n",
    "\n",
    "peak = results[\"peaks\"][0]\n",
    "freq, power = results[\"periodogram\"]\n",
    "plt.plot(1 / freq, power, color=\"k\", marker='')\n",
    "plt.axvline(peak[\"period\"], color=\"k\", lw=4, alpha=0.3)\n",
    "plt.xlim(1, 100)\n",
    "plt.xlabel(\"period [days]\")\n",
    "plt.ylabel(\"power\");\n",
    "\n",
    "est_rot_period = peak[\"period\"]"
   ]
  },
  {
   "cell_type": "code",
   "execution_count": null,
   "metadata": {},
   "outputs": [],
   "source": [
    "fig, ax = plt.subplots(1, 1, figsize=(14, 6))\n",
    "ax.plot(x, y,\n",
    "        marker='o', ls='none', mew=0, ms=1.5, alpha=0.5)\n",
    "ax.set_xlim(0, 200)\n",
    "for xxx in np.arange(0, 10) * est_rot_period:\n",
    "    ax.axvline(xxx, color='tab:red', alpha=0.25)"
   ]
  },
  {
   "cell_type": "markdown",
   "metadata": {},
   "source": [
    "Load primary stellar radius and mass from STARHORSE and Gaia:"
   ]
  },
  {
   "cell_type": "code",
   "execution_count": null,
   "metadata": {},
   "outputs": [],
   "source": [
    "M_star = row['mass'][0], row['mass_err'][0]\n",
    "R_star = row['radius_val'][0], row['radius_val'][0] - row['radius_percentile_lower'][0]\n",
    "M_star, R_star"
   ]
  },
  {
   "cell_type": "code",
   "execution_count": null,
   "metadata": {},
   "outputs": [],
   "source": [
    "df = 1 - 40/1e3\n",
    "R2 = R_star[0] * np.sqrt(df)\n",
    "R2"
   ]
  },
  {
   "cell_type": "code",
   "execution_count": null,
   "metadata": {},
   "outputs": [],
   "source": [
    "msini = row['m2_min_50'][0].to(u.M_sun)\n",
    "msini, msini.to(u.Mjup)"
   ]
  },
  {
   "cell_type": "code",
   "execution_count": null,
   "metadata": {},
   "outputs": [],
   "source": [
    "rv_span = np.max(x_rv) - np.min(x_rv)\n",
    "t_rv = np.arange(x_rv.min() - rv_span/10, \n",
    "                 x_rv.max() + rv_span/10, \n",
    "                 row['MAP_P'][0].to_value(u.day) / 128)\n",
    "\n",
    "\n",
    "def build_model(phot_mask=None, start=None):\n",
    "    if phot_mask is None:\n",
    "        phot_mask = np.ones(len(x), dtype=bool)\n",
    "        \n",
    "    with pm.Model() as model:\n",
    "\n",
    "        # Parameters for the stellar properties of the primary\n",
    "        u_star = xo.distributions.QuadLimbDark(\"u_star\")\n",
    "        BoundedNormal = pm.Bound(pm.Normal, lower=0.5, upper=3)\n",
    "        m_star = BoundedNormal(\"m_star\", mu=M_star[0], sd=M_star[1])\n",
    "        r_star = BoundedNormal(\"r_star\", mu=R_star[0], sd=R_star[1])\n",
    "\n",
    "        # Parameters of the companion\n",
    "        logm = pm.Normal(\"logm\", mu=np.log(msini.value), sd=1)  # companion mass\n",
    "        logr = pm.Normal(\n",
    "            \"logr\",\n",
    "            mu=0.5 * np.log(1e-3 * bls_depth) + np.log(R_star[0]),\n",
    "            sd=1,\n",
    "        )  # companion radius\n",
    "        r_pl = pm.Deterministic(\"r_pl\", tt.exp(logr))\n",
    "        rpl_over_rstar = pm.Deterministic(\"ror\", r_pl / r_star)\n",
    "        b = xo.distributions.ImpactParameter(\"b\", ror=rpl_over_rstar)\n",
    "        m_pl = pm.Deterministic(\"m_pl\", tt.exp(logm))  # for tracking\n",
    "        \n",
    "        # Parameters of the orbit\n",
    "        logP = pm.Normal(\"logP\", mu=np.log(bls_period), sd=1)\n",
    "        t0 = pm.Normal(\"t0\", mu=bls_t0, sd=1)\n",
    "        ecc = xo.distributions.eccentricity.kipping13(\n",
    "            \"ecc\", long=False, testval=0.043\n",
    "        )\n",
    "        omega = xo.distributions.Angle(\"omega\")\n",
    "        period = pm.Deterministic(\"period\", tt.exp(logP))  # for tracking\n",
    "\n",
    "        # RV jitter\n",
    "        logs_rv = pm.Normal(\"logs_rv\", mu=np.log(500.), sd=0.5)  # MAP_s~350 m/s, but prob. bigger\n",
    "        rv0 = pm.Normal(\"rv0\", mu=0, sd=500.)  # m/s\n",
    "\n",
    "        # Transit jitter & GP parameters\n",
    "        logs2 = pm.Normal(\"logs2\", mu=np.log(np.var(y[phot_mask])), sd=2)\n",
    "        logw0 = pm.Normal(\"logw0\", mu=0.0, sd=3)\n",
    "        logSw4 = pm.Normal(\"logSw4\", mu=np.log(np.var(y[phot_mask])), sd=4)\n",
    "        \n",
    "        # The parameters of the RotationTerm kernel\n",
    "        logamp = pm.Normal(\"logamp\", mu=np.log(np.var(y[phot_mask])), sd=5.0)\n",
    "        BoundedNormal = pm.Bound(pm.Normal, lower=0.0, upper=np.log(50))\n",
    "        logrotperiod = BoundedNormal(\"logrotperiod\", mu=np.log(est_rot_period), sd=5.0)\n",
    "        logQ0 = pm.Normal(\"logQ0\", mu=1.0, sd=10.0)\n",
    "        logdeltaQ = pm.Normal(\"logdeltaQ\", mu=2.0, sd=10.0)\n",
    "        mix = xo.distributions.UnitUniform(\"mix\")\n",
    "        rotperiod = pm.Deterministic(\"rotperiod\", tt.exp(logrotperiod))\n",
    "\n",
    "        # Orbit model\n",
    "        orbit = xo.orbits.KeplerianOrbit(\n",
    "            r_star=r_star,\n",
    "            m_star=m_star,\n",
    "            period=period,\n",
    "            t0=t0,\n",
    "            b=b,\n",
    "            m_planet=xo.units.with_unit(m_pl, msini.unit),\n",
    "            ecc=ecc,\n",
    "            omega=omega,\n",
    "        )\n",
    "\n",
    "        # Compute the transit light curve using starry\n",
    "        mean_flux = pm.Normal(\"mean_flux\", mu=0.0, sd=10.0)\n",
    "        transit_light_curves = xo.LimbDarkLightCurve(u_star).get_light_curve(\n",
    "            orbit=orbit, r=r_pl, t=x[phot_mask], texp=texp) * 1e3\n",
    "        \n",
    "        transit_light_curve = pm.math.sum(transit_light_curves, axis=-1) + mean_flux\n",
    "        # transit_light_curve = transit_light_curves + mean_flux\n",
    "        pm.Deterministic(\"transit_light_curves\", transit_light_curves)\n",
    "\n",
    "        # GP model for the light curve\n",
    "        # Set up the Gaussian Process model\n",
    "        kernel = xo.gp.terms.SHOTerm(log_Sw4=logSw4, log_w0=logw0, Q=1 / np.sqrt(2))\n",
    "        kernel += xo.gp.terms.RotationTerm(\n",
    "            log_amp=logamp, period=rotperiod, \n",
    "            log_Q0=logQ0, log_deltaQ=logdeltaQ, mix=mix\n",
    "        )\n",
    "        gp = xo.gp.GP(kernel, x[phot_mask], \n",
    "                      yerr[phot_mask]**2 + tt.exp(logs2))\n",
    "        pm.Potential(\"transit_obs\", gp.log_likelihood(y[phot_mask] - transit_light_curve))\n",
    "        pm.Deterministic(\"gp_pred\", gp.predict())\n",
    "\n",
    "        # Set up the RV model and save it as a deterministic\n",
    "        # for plotting purposes later\n",
    "        vrad = orbit.get_radial_velocity(x_rv)\n",
    "        pm.Deterministic(\"vrad\", vrad)\n",
    "\n",
    "        # The likelihood for the RVs\n",
    "        # rv_model = pm.Deterministic(\"rv_model\", tt.sum(vrad, axis=-1) + rv0)\n",
    "        rv_model = pm.Deterministic(\"rv_model\", vrad + rv0)\n",
    "        err = tt.sqrt(yerr_rv ** 2 + tt.exp(2 * logs_rv))\n",
    "        pm.Normal(\"obs\", mu=rv_model, sd=err, observed=y_rv)\n",
    "\n",
    "        # vrad_pred = orbit.get_radial_velocity(t_rv)\n",
    "        vrad_pred = orbit.get_radial_velocity(t_rv)\n",
    "        pm.Deterministic(\"vrad_pred\", vrad_pred)\n",
    "        bkg_pred = pm.Deterministic(\"bkg_pred\", rv0)\n",
    "        pm.Deterministic(\"rv_model_pred\", vrad_pred + bkg_pred)\n",
    "\n",
    "        # Fit for the maximum a posteriori parameters, I've found that I can get\n",
    "        # a better solution by trying different combinations of parameters in turn\n",
    "        if start is None:\n",
    "            start = model.test_point\n",
    "        map_soln = xo.optimize(start=start, vars=[logP, t0])\n",
    "        map_soln = xo.optimize(start=map_soln, vars=[logs2, logs_rv])\n",
    "        map_soln = xo.optimize(start=map_soln, vars=[logs2, logSw4])\n",
    "        map_soln = xo.optimize(start=map_soln, vars=[logw0])\n",
    "        # map_soln = xo.optimize(start=map_soln, vars=[logr, b])\n",
    "        map_soln = xo.optimize(start=map_soln, vars=[logP, t0, omega, ecc, rv0, logs_rv])\n",
    "        map_soln = xo.optimize(start=map_soln)\n",
    "\n",
    "    return model, map_soln"
   ]
  },
  {
   "cell_type": "code",
   "execution_count": null,
   "metadata": {},
   "outputs": [],
   "source": [
    "sub_mask = np.zeros(len(x), dtype=bool)\n",
    "sub_mask[:15000] = True\n",
    "sub_mask &= np.isfinite(y)"
   ]
  },
  {
   "cell_type": "code",
   "execution_count": null,
   "metadata": {},
   "outputs": [],
   "source": [
    "model0, map_soln0 = build_model(phot_mask=sub_mask)"
   ]
  },
  {
   "cell_type": "code",
   "execution_count": null,
   "metadata": {},
   "outputs": [],
   "source": [
    "y_fontsize = 12\n",
    "\n",
    "def plot_light_curve(soln, mask=None):\n",
    "    if mask is None:\n",
    "        mask = np.ones(len(x), dtype=bool)\n",
    "\n",
    "    fig, axes = plt.subplots(4, 1, figsize=(12, 12), sharex=True, sharey=True)\n",
    "\n",
    "    ax = axes[0]\n",
    "    ax.plot(x[mask], y[mask], \"k\", label=\"data\")\n",
    "    gp_mod = soln[\"gp_pred\"] + soln[\"mean_flux\"]\n",
    "    ax.plot(x[mask], gp_mod, color=\"C2\", label=\"gp model\")\n",
    "    ax.legend(fontsize=10)\n",
    "    ax.set_ylabel(\"relative flux [ppt]\", fontsize=y_fontsize)\n",
    "\n",
    "    ax = axes[1]\n",
    "    ax.plot(x[mask], y[mask] - gp_mod, \"k\")\n",
    "    ax.set_ylabel(\"de-trended flux [ppt]\", fontsize=y_fontsize)\n",
    "    \n",
    "    ax = axes[2]\n",
    "    ax.plot(x[mask], soln[\"transit_light_curves\"][:, 0], \"k\")\n",
    "    ax.set_ylabel(\"transit [ppt]\", fontsize=y_fontsize)\n",
    "\n",
    "    ax = axes[3]\n",
    "    mod = gp_mod + soln[\"transit_light_curves\"][:, 0]\n",
    "    ax.plot(x[mask], y[mask] - mod, \"k\")\n",
    "    ax.axhline(0, color=\"#aaaaaa\", lw=1)\n",
    "    ax.set_ylabel(\"residuals [ppt]\", fontsize=y_fontsize)\n",
    "    ax.set_xlim(x[mask].min(), x[mask].max())\n",
    "    ax.set_xlabel(\"time [days]\")\n",
    "    \n",
    "    fig.tight_layout()\n",
    "\n",
    "    return fig\n",
    "\n",
    "def plot_rv_curve(soln):\n",
    "    err = np.sqrt(yerr_rv ** 2 + np.exp(2 * soln[\"logs_rv\"]))\n",
    "    \n",
    "    fig, axes = plt.subplots(2, 1, figsize=(10, 7))\n",
    "\n",
    "    ax = axes[0]\n",
    "    ax.errorbar((x_rv/soln['period']) % 1, y_rv, yerr=yerr_rv, \n",
    "                marker='o', ls='none', color='k')\n",
    "    ax.errorbar((x_rv/soln['period']) % 1, y_rv, yerr=err, \n",
    "                marker='', ls='none', color='tab:red', zorder=-100)\n",
    "    ax.plot((t_rv/soln['period']) % 1, soln[\"vrad_pred\"], \"--k\", alpha=0.5, color='tab:blue')\n",
    "    ax.plot((t_rv/soln['period']) % 1, soln[\"rv_model_pred\"], label=\"model\")\n",
    "    ax.legend(fontsize=10)\n",
    "    ax.set_ylabel(\"radial velocity [m/s]\", fontsize=y_fontsize)\n",
    "    ax.set_xlim(0, 1)\n",
    "\n",
    "    ax = axes[1]\n",
    "    ax.errorbar(x_rv, y_rv - soln[\"rv_model\"], yerr=yerr_rv, \n",
    "                marker='o', ls='none', color='k')\n",
    "    ax.errorbar(x_rv, y_rv - soln[\"rv_model\"], yerr=err, \n",
    "                marker='', ls='none', color='tab:red', zorder=-100)\n",
    "    ax.axhline(0, color=\"k\", lw=1)\n",
    "    ax.set_ylabel(\"residuals [m/s]\", fontsize=y_fontsize)\n",
    "    ax.set_xlim(t_rv.min(), t_rv.max())\n",
    "    ax.set_xlabel(\"time [days]\")\n",
    "    fig.tight_layout()"
   ]
  },
  {
   "cell_type": "code",
   "execution_count": null,
   "metadata": {},
   "outputs": [],
   "source": [
    "fig = plot_light_curve(map_soln0, mask=sub_mask)\n",
    "fig.axes[0].set_xlim(0, 300)\n",
    "fig.axes[0].set_ylim(-10, 5)\n",
    "fig.set_facecolor('w')"
   ]
  },
  {
   "cell_type": "code",
   "execution_count": null,
   "metadata": {},
   "outputs": [],
   "source": [
    "plot_rv_curve(map_soln0)"
   ]
  },
  {
   "cell_type": "markdown",
   "metadata": {},
   "source": [
    "Sigma clip the outliers:"
   ]
  },
  {
   "cell_type": "code",
   "execution_count": null,
   "metadata": {},
   "outputs": [],
   "source": [
    "_mask = sub_mask\n",
    "\n",
    "mod = (\n",
    "    map_soln0[\"gp_pred\"]\n",
    "    + map_soln0[\"mean_flux\"]\n",
    "    + np.sum(map_soln0[\"transit_light_curves\"], axis=-1)\n",
    ")\n",
    "resid = y[_mask] - mod\n",
    "rms = np.sqrt(np.median(resid ** 2))\n",
    "mask_iter1 = np.abs(resid) < 10 * rms\n",
    "\n",
    "plt.plot(x[_mask], resid, \"k\", label=\"data\")\n",
    "plt.plot(x[_mask][~mask_iter1], resid[~mask_iter1], \"xr\", mew=1, label=\"outliers\")\n",
    "plt.axhline(0, color=\"#aaaaaa\", lw=1)\n",
    "plt.ylabel(\"residuals [ppt]\")\n",
    "plt.xlabel(\"time [days]\")\n",
    "plt.legend(fontsize=12, loc=4)\n",
    "plt.xlim(x[_mask].min(), x[_mask].max());\n",
    "plt.axhline(7*rms)\n",
    "plt.axhline(-7*rms)"
   ]
  },
  {
   "cell_type": "code",
   "execution_count": null,
   "metadata": {},
   "outputs": [],
   "source": [
    "tmp_mask = sub_mask.copy()\n",
    "tmp_mask[:len(mask_iter1)] = mask_iter1\n",
    "model, map_soln1 = build_model(start=map_soln0, phot_mask=tmp_mask)"
   ]
  },
  {
   "cell_type": "code",
   "execution_count": null,
   "metadata": {},
   "outputs": [],
   "source": [
    "fig = plot_light_curve(map_soln1, tmp_mask);\n",
    "fig.axes[0].set_xlim(0, 300)\n",
    "fig.axes[0].set_ylim(-10, 5)\n",
    "fig.set_facecolor('w')"
   ]
  },
  {
   "cell_type": "code",
   "execution_count": null,
   "metadata": {},
   "outputs": [],
   "source": [
    "plot_rv_curve(map_soln1)"
   ]
  },
  {
   "cell_type": "code",
   "execution_count": null,
   "metadata": {},
   "outputs": [],
   "source": [
    "np.exp(map_soln1['logP'])"
   ]
  },
  {
   "cell_type": "code",
   "execution_count": null,
   "metadata": {},
   "outputs": [],
   "source": [
    "map_soln1['ecc']"
   ]
  },
  {
   "cell_type": "code",
   "execution_count": null,
   "metadata": {},
   "outputs": [],
   "source": [
    "map_soln1['r_pl']"
   ]
  },
  {
   "cell_type": "code",
   "execution_count": null,
   "metadata": {},
   "outputs": [],
   "source": [
    "mass = map_soln1['m_pl'] * u.Msun\n",
    "mass.to(u.Mjup)"
   ]
  },
  {
   "cell_type": "code",
   "execution_count": null,
   "metadata": {},
   "outputs": [],
   "source": [
    "map_soln1['rotperiod']"
   ]
  },
  {
   "cell_type": "markdown",
   "metadata": {},
   "source": [
    "---"
   ]
  },
  {
   "cell_type": "code",
   "execution_count": null,
   "metadata": {},
   "outputs": [],
   "source": [
    "np.random.seed(123)\n",
    "with model:\n",
    "    trace = pm.sample(\n",
    "        tune=1000,\n",
    "        draws=1000,\n",
    "        start=map_soln1,\n",
    "        chains=4,\n",
    "        step=xo.get_dense_nuts_step(target_accept=0.9),\n",
    "    )"
   ]
  },
  {
   "cell_type": "code",
   "execution_count": null,
   "metadata": {},
   "outputs": [],
   "source": [
    "pm.summary(trace, var_names=[\"period\", \"r_pl\", \"m_pl\", \"ecc\", \"omega\", \"b\", \"rotperiod\"])"
   ]
  },
  {
   "cell_type": "code",
   "execution_count": null,
   "metadata": {},
   "outputs": [],
   "source": [
    "print(trace.varnames)"
   ]
  },
  {
   "cell_type": "code",
   "execution_count": null,
   "metadata": {},
   "outputs": [],
   "source": [
    "np.mean((trace['r_pl'] * u.Rsun).to(u.Rjup))"
   ]
  },
  {
   "cell_type": "code",
   "execution_count": null,
   "metadata": {},
   "outputs": [],
   "source": [
    "(np.mean(trace['m_pl'])*u.Msun).to(u.Mjup), (np.std(trace['m_pl'])*u.Msun).to(u.Mjup)"
   ]
  },
  {
   "cell_type": "code",
   "execution_count": null,
   "metadata": {},
   "outputs": [],
   "source": [
    "np.mean((trace['rotperiod'] * u.day))"
   ]
  },
  {
   "cell_type": "code",
   "execution_count": null,
   "metadata": {},
   "outputs": [],
   "source": [
    "np.mean(trace['ecc'])"
   ]
  },
  {
   "cell_type": "code",
   "execution_count": null,
   "metadata": {},
   "outputs": [],
   "source": [
    "np.mean(trace['m_star'])"
   ]
  },
  {
   "cell_type": "code",
   "execution_count": null,
   "metadata": {},
   "outputs": [],
   "source": [
    "plt.figure(figsize=(8, 5))\n",
    "\n",
    "# Get the posterior median orbital parameters\n",
    "p = np.median(trace[\"period\"])\n",
    "t0 = np.median(trace[\"t0\"])\n",
    "\n",
    "# Plot the folded data\n",
    "x_fold = (x_rv - t0 + 0.5 * p) % p - 0.5 * p\n",
    "plt.errorbar(x_fold, y_rv, yerr=yerr_rv, fmt=\".k\", label=\"data\")\n",
    "\n",
    "# Compute the posterior prediction for the folded RV model for this\n",
    "# planet\n",
    "t_fold = (t_rv - t0 + 0.5 * p) % p - 0.5 * p\n",
    "inds = np.argsort(t_fold)\n",
    "pred = np.percentile(trace[\"vrad_pred\"][:, inds], [16, 50, 84], axis=0)\n",
    "plt.plot(t_fold[inds], pred[1], color=\"C1\", label=\"model\", marker='')\n",
    "art = plt.fill_between(t_fold[inds], pred[0], pred[2], color=\"C1\", alpha=0.3)\n",
    "art.set_edgecolor(\"none\")\n",
    "\n",
    "plt.legend(fontsize=10)\n",
    "plt.xlim(-0.5 * p, 0.5 * p)\n",
    "plt.xlabel(\"phase [days]\")\n",
    "plt.ylabel(\"radial velocity [m/s]\")\n",
    "# plt.title(\"K2-24{0}\".format(letter));"
   ]
  },
  {
   "cell_type": "code",
   "execution_count": null,
   "metadata": {},
   "outputs": [],
   "source": [
    "plt.figure(figsize=(8, 5))\n",
    "\n",
    "# Compute the GP prediction\n",
    "gp_mod = np.median(trace[\"gp_pred\"] + trace[\"mean_flux\"][:, None], axis=0)\n",
    "\n",
    "# Get the posterior median orbital parameters\n",
    "p = np.median(trace[\"period\"])\n",
    "t0 = np.median(trace[\"t0\"])\n",
    "\n",
    "# Plot the folded data\n",
    "x_fold = (x[tmp_mask] - t0 + 0.5 * p) % p - 0.5 * p\n",
    "plt.plot(x_fold, y[tmp_mask] - gp_mod, \".k\", label=\"data\", zorder=-1000)\n",
    "\n",
    "# Plot the folded model\n",
    "inds = np.argsort(x_fold)\n",
    "inds = inds[np.abs(x_fold)[inds] < 0.3]\n",
    "pred = trace[\"transit_light_curves\"][:, inds, 0]\n",
    "pred = np.percentile(pred, [16, 50, 84], axis=0)\n",
    "plt.plot(x_fold[inds], pred[1], color=\"C1\", label=\"model\", marker='')\n",
    "art = plt.fill_between(\n",
    "    x_fold[inds], pred[0], pred[2], color=\"C1\", alpha=0.5, zorder=1000\n",
    ")\n",
    "art.set_edgecolor(\"none\")\n",
    "\n",
    "# Annotate the plot with the planet's period\n",
    "txt = \"period = {0:.4f} +/- {1:.4f} d\".format(\n",
    "    np.mean(trace[\"period\"]), np.std(trace[\"period\"])\n",
    ")\n",
    "\n",
    "plt.xlim(-0.5 * p, 0.5 * p)\n",
    "plt.xlabel(\"time since transit [days]\")\n",
    "plt.ylabel(\"de-trended flux\")\n",
    "# plt.title(\"K2-24{0}\".format(letter))\n",
    "plt.xlim(-0.3, 0.3)"
   ]
  },
  {
   "cell_type": "code",
   "execution_count": null,
   "metadata": {},
   "outputs": [],
   "source": []
  }
 ],
 "metadata": {
  "kernelspec": {
   "display_name": "conda-hq",
   "language": "python",
   "name": "conda-hq"
  },
  "language_info": {
   "codemirror_mode": {
    "name": "ipython",
    "version": 3
   },
   "file_extension": ".py",
   "mimetype": "text/x-python",
   "name": "python",
   "nbconvert_exporter": "python",
   "pygments_lexer": "ipython3",
   "version": "3.7.5"
  }
 },
 "nbformat": 4,
 "nbformat_minor": 4
}
