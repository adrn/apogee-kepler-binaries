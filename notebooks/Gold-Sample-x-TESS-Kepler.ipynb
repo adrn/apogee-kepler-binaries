{
 "cells": [
  {
   "cell_type": "code",
   "execution_count": null,
   "metadata": {},
   "outputs": [],
   "source": [
    "import os\n",
    "\n",
    "from astropy.io import fits\n",
    "import astropy.table as at\n",
    "from astropy.timeseries import BoxLeastSquares\n",
    "from astropy.constants import G\n",
    "import astropy.coordinates as coord\n",
    "import astropy.units as u\n",
    "import h5py\n",
    "import matplotlib as mpl\n",
    "import matplotlib.pyplot as plt\n",
    "%matplotlib inline\n",
    "import numpy as np\n",
    "import requests\n",
    "from tqdm.notebook import tqdm\n",
    "\n",
    "import thejoker as tj\n",
    "from hq.data import get_rvdata"
   ]
  },
  {
   "cell_type": "code",
   "execution_count": null,
   "metadata": {},
   "outputs": [],
   "source": [
    "binaries = at.Table.read('../catalogs/lnK0.0_logL4.6_metadata_gaia_starhorse.fits')\n",
    "gold = at.QTable(at.Table.read('../catalogs/gold_sample.fits').filled())"
   ]
  },
  {
   "cell_type": "code",
   "execution_count": null,
   "metadata": {},
   "outputs": [],
   "source": [
    "allvisit = fits.getdata('/mnt/home/apricewhelan/data/APOGEE_DR16/allVisit-r12-l33.fits')"
   ]
  },
  {
   "cell_type": "code",
   "execution_count": null,
   "metadata": {},
   "outputs": [],
   "source": [
    "kepler = at.Table.read('/mnt/home/apricewhelan/data/Gaia-Kepler/kepler_dr2_4arcsec.fits')\n",
    "k2 = at.Table.read('/mnt/home/apricewhelan/data/Gaia-Kepler/k2_dr2_4arcsec.fits')\n",
    "\n",
    "kepler = kepler[kepler['kepler_gaia_ang_dist'] < 1.]\n",
    "k2 = k2[k2['k2_gaia_ang_dist'] < 1.]"
   ]
  },
  {
   "cell_type": "code",
   "execution_count": null,
   "metadata": {},
   "outputs": [],
   "source": [
    "fig, axes = plt.subplots(1, 2, figsize=(12, 5),\n",
    "                         sharex=True, sharey=True)\n",
    "\n",
    "ax = axes[0]\n",
    "dmag = kepler['phot_g_mean_mag'] - kepler['kepmag']\n",
    "ax.plot(kepler['teff'], dmag, \n",
    "        ls='none', marker='o', \n",
    "        mew=0, ms=1.5, alpha=0.2)\n",
    "ax.set_xlabel(r'$T_{\\rm eff}$')\n",
    "ax.set_ylabel(r'${\\rm Kp} - G$ [mag]')\n",
    "ax.set_xlim(2000, 12000)\n",
    "ax.set_ylim(-3, 10)\n",
    "\n",
    "ax = axes[1]\n",
    "dmag = k2['phot_g_mean_mag'] - k2['k2_kepmag']\n",
    "ax.plot(k2['k2_teff'], dmag, \n",
    "        ls='none', marker='o', \n",
    "        mew=0, ms=1.5, alpha=0.2)\n",
    "ax.set_xlabel(r'$T_{\\rm eff}$')\n",
    "ax.set_ylabel(r'K2 ${\\rm Kp} - G$ [mag]')\n",
    "\n",
    "for ax in axes:\n",
    "    ax.axhline(-0.5)\n",
    "    ax.axhline(0.5)\n",
    "    \n",
    "fig.set_facecolor('w')"
   ]
  },
  {
   "cell_type": "code",
   "execution_count": null,
   "metadata": {},
   "outputs": [],
   "source": [
    "fig, axes = plt.subplots(1, 2, figsize=(12, 5), \n",
    "                         sharex=True, sharey=True)\n",
    "\n",
    "ax = axes[0]\n",
    "dmag = kepler['phot_g_mean_mag'] - kepler['kepmag']\n",
    "ax.plot(np.abs(dmag), kepler['kepler_gaia_ang_dist'], \n",
    "        ls='none', marker='o', mew=0, ms=1.5,\n",
    "        alpha=0.25)\n",
    "ax.set_xlabel(r'${\\rm Kp} - G$ [mag]')\n",
    "ax.set_ylabel('Kepler–Gaia sep. [arcsec]')\n",
    "\n",
    "ax = axes[1]\n",
    "dmag = k2['phot_g_mean_mag'] - k2['k2_kepmag']\n",
    "ax.plot(np.abs(dmag), k2['k2_gaia_ang_dist'], \n",
    "        ls='none', marker='o', mew=0, ms=1.5,\n",
    "        alpha=0.25)\n",
    "ax.set_xlabel(r'${\\rm Kp} - G$ [mag]')\n",
    "ax.set_ylabel('K2–Gaia sep. [arcsec]')\n",
    "\n",
    "for ax in axes:\n",
    "    ax.axvline(1.5, color='tab:red')\n",
    "\n",
    "fig.set_facecolor('w')\n",
    "fig.tight_layout()"
   ]
  },
  {
   "cell_type": "code",
   "execution_count": null,
   "metadata": {},
   "outputs": [],
   "source": [
    "tmp_kepler = kepler[np.abs(kepler['phot_g_mean_mag'] - kepler['kepmag']) < 1.]\n",
    "tmp_k2 = k2[np.abs(k2['phot_g_mean_mag'] - k2['k2_kepmag']) < 1.5]\n",
    "tmp_k2.rename_column('tm_name', 'tm_designation')\n",
    "\n",
    "master = at.vstack((tmp_kepler, tmp_k2))\n",
    "master['tm_designation'] = master['tm_designation'].astype(str)\n",
    "master = master[master['tm_designation'] != 'N/A']\n",
    "\n",
    "_, idx = np.unique(master['source_id'], return_index=True)\n",
    "master = master[idx]"
   ]
  },
  {
   "cell_type": "code",
   "execution_count": null,
   "metadata": {},
   "outputs": [],
   "source": [
    "gold_master = at.join(gold, master, keys='source_id', \n",
    "                      uniq_col_name='{col_name}{table_name}',\n",
    "                      table_names=['', '2'])\n",
    "\n",
    "gold_master = gold_master[\n",
    "    ((gold_master['n_visits'] - gold_master['NVISITS']) > -3)]"
   ]
  },
  {
   "cell_type": "markdown",
   "metadata": {},
   "source": [
    "## Known EBs:"
   ]
  },
  {
   "cell_type": "code",
   "execution_count": null,
   "metadata": {},
   "outputs": [],
   "source": [
    "kebs = at.Table.read('/mnt/home/apricewhelan/data/Gaia-Kepler/Kirk2016-Kepler-EBs.csv', \n",
    "                     format='ascii.commented_header', \n",
    "                     delimiter=',', header_start=7)\n",
    "np.isin(kebs['KIC'], gold_master['kepid']).sum()"
   ]
  },
  {
   "cell_type": "code",
   "execution_count": null,
   "metadata": {},
   "outputs": [],
   "source": [
    "binaries_master = at.join(binaries, master, keys='source_id', \n",
    "                          uniq_col_name='{col_name}{table_name}',\n",
    "                          table_names=['', '2'])\n",
    "binaries_master = at.QTable(binaries_master[binaries_master['n_visits'] >= 5])"
   ]
  },
  {
   "cell_type": "code",
   "execution_count": null,
   "metadata": {},
   "outputs": [],
   "source": [
    "len(gold_master), len(binaries_master)"
   ]
  },
  {
   "cell_type": "code",
   "execution_count": null,
   "metadata": {},
   "outputs": [],
   "source": [
    "P_threshold = 1000*u.day"
   ]
  },
  {
   "cell_type": "code",
   "execution_count": null,
   "metadata": {},
   "outputs": [],
   "source": [
    "k2_mask = ((gold_master['MAP_P'] < P_threshold) & \n",
    "           ~gold_master['k2_campaign_str'].mask)\n",
    "k2_sample = gold_master[k2_mask]\n",
    "k2_sample['epic_number', 'MAP_P', 'MAP_e']"
   ]
  },
  {
   "cell_type": "code",
   "execution_count": null,
   "metadata": {},
   "outputs": [],
   "source": [
    "kep_mask = ((gold_master['MAP_P'] < P_threshold) & \n",
    "            ~gold_master['kepid'].mask)\n",
    "kep_sample = gold_master[kep_mask]\n",
    "kep_sample['kepid', 'MAP_P', 'MAP_e']"
   ]
  },
  {
   "cell_type": "code",
   "execution_count": null,
   "metadata": {},
   "outputs": [],
   "source": [
    "# kep_sample['m2_min_50'][kep_sample['m2_min_50'].argsort()].to(u.Mjup)\n",
    "kep_sample['MAP_P', 'MAP_e'][kep_sample['MAP_e'].argsort()]"
   ]
  },
  {
   "cell_type": "code",
   "execution_count": null,
   "metadata": {},
   "outputs": [],
   "source": [
    "full_kep_mask = ~binaries_master['kepid'].mask\n",
    "full_kep_sample = binaries_master[full_kep_mask & ~np.isin(binaries_master['APOGEE_ID'], \n",
    "                                                           gold_master['APOGEE_ID'])]\n",
    "len(full_kep_sample)"
   ]
  },
  {
   "cell_type": "markdown",
   "metadata": {},
   "source": [
    "--- \n",
    "\n",
    "## Download Kepler/K2 light curves"
   ]
  },
  {
   "cell_type": "code",
   "execution_count": null,
   "metadata": {},
   "outputs": [],
   "source": [
    "import lightkurve as lk\n",
    "from astropy.time import Time"
   ]
  },
  {
   "cell_type": "code",
   "execution_count": null,
   "metadata": {},
   "outputs": [],
   "source": [
    "def get_transit_period(lc, rv_period=None):\n",
    "    \n",
    "    # Convert to parts per thousand\n",
    "    x = lc.astropy_time.tcb.jd\n",
    "    y = lc.flux\n",
    "    mu = np.nanmedian(y)\n",
    "    y = (y / mu - 1) * 1e3\n",
    "    yerr = lc.flux_err * 1e3\n",
    "\n",
    "    x_ref = np.min(x)\n",
    "    x = x - x_ref\n",
    "    \n",
    "    m = np.isfinite(y)\n",
    "    bls = BoxLeastSquares(x[m], y[m])\n",
    "\n",
    "    if rv_period is None:\n",
    "        period_grid = np.exp(np.linspace(np.log(1.5), np.log(200), 10000))\n",
    "    else:\n",
    "        logP = np.log(rv_period.to_value(u.day))\n",
    "        period_grid = np.exp(np.linspace(logP-1, logP+1, 10000))\n",
    "    \n",
    "    bls_power = bls.power(period_grid, 0.1, oversample=10)\n",
    "\n",
    "    # Save the highest peak as the planet candidate\n",
    "    index = np.argmax(bls_power.power)\n",
    "    bls_period = bls_power.period[index]\n",
    "    bls_t0 = bls_power.transit_time[index]\n",
    "    bls_depth = bls_power.depth[index]\n",
    "    \n",
    "    return Time(bls_t0 + x_ref, format='jd', scale='tcb'), bls_period"
   ]
  },
  {
   "cell_type": "code",
   "execution_count": null,
   "metadata": {},
   "outputs": [],
   "source": [
    "len(kep_sample), len(k2_sample)"
   ]
  },
  {
   "cell_type": "code",
   "execution_count": null,
   "metadata": {},
   "outputs": [],
   "source": [
    "# row = kep_sample[5]\n",
    "row = kep_sample[kep_sample['MAP_e'].argsort()[::-1]][0]"
   ]
  },
  {
   "cell_type": "code",
   "execution_count": null,
   "metadata": {},
   "outputs": [],
   "source": [
    "row['APOGEE_ID', 'kepid', 'm2_min_50', 'MAP_P', 'MAP_e']"
   ]
  },
  {
   "cell_type": "code",
   "execution_count": null,
   "metadata": {},
   "outputs": [],
   "source": [
    "# tpf = lk.search_targetpixelfile(f\"EPIC {row['epic_number']}\", \n",
    "#                                 campaign=int(row['k2_campaign_str']), \n",
    "#                                 cadence='short').download()\n",
    "# tpf = lk.search_targetpixelfile(f\"KIC {row['kepid']}\").download_all()"
   ]
  },
  {
   "cell_type": "code",
   "execution_count": null,
   "metadata": {},
   "outputs": [],
   "source": [
    "lcfs = lk.search_lightcurvefile(f\"KIC {row['kepid']}\", mission='Kepler').download_all()\n",
    "stitched_lc = lcfs.PDCSAP_FLUX.stitch()"
   ]
  },
  {
   "cell_type": "code",
   "execution_count": null,
   "metadata": {},
   "outputs": [],
   "source": [
    "transit_time, transit_P = get_transit_period(stitched_lc, row['MAP_P'])"
   ]
  },
  {
   "cell_type": "code",
   "execution_count": null,
   "metadata": {},
   "outputs": [],
   "source": [
    "fig, ax = plt.subplots(1, 1, figsize=(12, 6))\n",
    "phase = ((stitched_lc.astropy_time - transit_time).jd / transit_P + 0.5) % 1. - 0.5\n",
    "cc = ax.scatter(phase, stitched_lc.flux, \n",
    "                s=1, alpha=0.2, lw=1, \n",
    "                c=stitched_lc.time)\n",
    "ax.set_xlim(-0.5, 0.5)\n",
    "ax.set_xlabel('Phase')\n",
    "ax.set_ylabel('Normalized Flux')\n",
    "cb = fig.colorbar(cc)\n",
    "cb.set_label('Kepler time', fontsize=14)\n",
    "\n",
    "ax.set_title((f\"KIC {row['kepid']};  \" +\n",
    "              f\"P={row['MAP_P']:.2f};  \" + \n",
    "              f\"e={row['MAP_e']:.2f};  \" +\n",
    "              f\"{row['m2_min_50']:.2f};  \" + \n",
    "              f\"{row['m2_min_50'].to(u.Mjup):.1f};  \"),\n",
    "             fontsize=14)\n",
    "fig.set_facecolor('w')\n",
    "fig.tight_layout()"
   ]
  },
  {
   "cell_type": "markdown",
   "metadata": {},
   "source": [
    "## Make all plots:"
   ]
  },
  {
   "cell_type": "code",
   "execution_count": null,
   "metadata": {},
   "outputs": [],
   "source": [
    "from scipy.stats import binned_statistic"
   ]
  },
  {
   "cell_type": "code",
   "execution_count": null,
   "metadata": {},
   "outputs": [],
   "source": [
    "def plot_folded(lc, rv_data, P, t0, \n",
    "                kepid, row, fold_text=''):\n",
    "    \n",
    "    fig, axes = plt.subplots(2, 1, figsize=(12, 9), sharex=True)\n",
    "    \n",
    "    ax = axes[0]\n",
    "    phase = ((lc.astropy_time - t0).jd / P.to_value(u.day) + 0.5) % 1. - 0.5\n",
    "    \n",
    "    for i in [-1, 0, 1]:\n",
    "        cc = ax.scatter(phase + i, lc.flux,\n",
    "                        s=1, alpha=0.2, lw=1, \n",
    "                        c=lc.time)\n",
    "        \n",
    "        m = np.isfinite(lc.flux)\n",
    "        stat = binned_statistic(phase[m] + i, lc.flux[m], statistic='mean',\n",
    "                                bins=np.arange(-0.75, 0.75+1e-3, 0.02))\n",
    "        ctr = 0.5 * (stat.bin_edges[:-1] + stat.bin_edges[1:])\n",
    "        ax.plot(ctr, stat.statistic, \n",
    "                marker='o', color='k', ls='-', alpha=0.5,\n",
    "                zorder=100, mew=0, ms=3, drawstyle='steps-mid')\n",
    "    \n",
    "    ax.axhline(1, marker='', zorder=100, color='w', alpha=0.4)\n",
    "    ax.set_xlim(-0.75, 0.75)\n",
    "    ax.set_ylabel('Normalized Flux')\n",
    "    # cb = fig.colorbar(cc)\n",
    "    # cb.set_label('Kepler time', fontsize=14)\n",
    "\n",
    "    ax.set_title(f\"{kepid}    {row['APOGEE_ID']}\",\n",
    "                 fontsize=18)\n",
    "    \n",
    "    # ylim = (ax.get_ylim()[0], np.nanpercentile(stitched_lc.flux, 99))\n",
    "    ylim = np.nanpercentile(stitched_lc.flux, [0.01, 99.])\n",
    "    yptp = ylim[1] - ylim[0]\n",
    "    ylim = (ylim[0] - 0.5*yptp, ylim[1] + 0.5*yptp)\n",
    "    ax.set_ylim(ylim)\n",
    "    \n",
    "    yspan = ylim[1] - ylim[0]\n",
    "    ax.text(0.7, ylim[1] - yspan/20, fold_text,\n",
    "            ha='right', va='top', color='#777777')\n",
    "    \n",
    "    info_text = (f\"$P={row['MAP_P'].value:.2f}$ {u.day:latex_inline}\\n\" + \n",
    "                 f\"$e={row['MAP_e']:.2f}$\\n\" +\n",
    "                 f\"$M_2\\,\\sin i={row['m2_min_50'].value:.2f}$ {u.Msun:latex_inline}$=\" + \n",
    "                 f\"{row['m2_min_50'].to_value(u.Mjup):.1f}$ {u.Mjup:latex_inline}\\n\" + \n",
    "                 r\"$\\varpi \" + f\"= {row['parallax']:.2f}$\")\n",
    "    ax.text(-0.7, ylim[1] - yspan/20, info_text,\n",
    "            ha='left', va='top', color='#222222',\n",
    "            fontsize=14, bbox=dict(facecolor='w', alpha=0.7))\n",
    "    \n",
    "    info_text = (r\"$[{\\rm M}/{\\rm H}] = \" + f\"{row['M_H']:.2f}$\\n\" + \n",
    "                 r\"$T_{\\rm eff}=\" + f\"{row['TEFF']:.0f}$\\n\" + \n",
    "                 r\"$\\log g = \" + f\"{row['LOGG']:.2f}$\")\n",
    "    ax.text(-0.7, ylim[0] + yspan/20, info_text,\n",
    "            ha='left', va='bottom', color='#222222',\n",
    "            fontsize=14, bbox=dict(facecolor='w', alpha=0.7))\n",
    "    \n",
    "    # Radial velocity\n",
    "    ax = axes[1]\n",
    "    phase = ((rv_data.t - t0).jd / P.to_value(u.day) + 0.5) % 1. - 0.5\n",
    "    ax.errorbar(phase, (rv_data.rv - row['MAP_v0']).to_value(u.km/u.s), \n",
    "                yerr=rv_data.rv_err.to_value(u.km/u.s),\n",
    "                marker='o', ls='none')\n",
    "    ax.axhline(0, zorder=-100, color='#cccccc')\n",
    "    \n",
    "    ax.set_xlabel('Phase')\n",
    "    ax.set_ylabel(f'$v_r - v_0$ [{u.km/u.s:latex_inline}]')\n",
    "    ax.set_ylim(-1.5*row['MAP_K'].to_value(u.km/u.s),\n",
    "                 1.5*row['MAP_K'].to_value(u.km/u.s))\n",
    "    \n",
    "    fig.set_facecolor('w')\n",
    "    fig.tight_layout()\n",
    "    return fig, axes"
   ]
  },
  {
   "cell_type": "code",
   "execution_count": null,
   "metadata": {},
   "outputs": [],
   "source": [
    "plot_path = '../plots/kepler/'\n",
    "os.makedirs(plot_path, exist_ok=True)"
   ]
  },
  {
   "cell_type": "code",
   "execution_count": null,
   "metadata": {},
   "outputs": [],
   "source": [
    "for row in kep_sample:\n",
    "    plot_filename = os.path.join(plot_path, f\"kepler-lc-{row['APOGEE_ID']}.png\")\n",
    "    \n",
    "#     if os.path.exists(plot_filename):\n",
    "#         continue\n",
    "    \n",
    "    lcfs = lk.search_lightcurvefile(f\"KIC {row['kepid']}\", mission='Kepler').download_all()\n",
    "    try:\n",
    "        stitched_lc = lcfs.PDCSAP_FLUX.stitch()\n",
    "    except ValueError:\n",
    "        print(f\"Weirdo light curve for {row['APOGEE_ID']}\")\n",
    "        # stitched_lc = lcfs[0].PDCSAP_FLUX.stitch()\n",
    "        continue\n",
    "    \n",
    "    transit_time, transit_P = get_transit_period(stitched_lc, row['MAP_P'])\n",
    "    frac_dP = np.abs(transit_P-row['MAP_P'].value) / row['MAP_P'].value\n",
    "    \n",
    "    if frac_dP < 0.1:  # use transit P\n",
    "        fold_text = 'folded on transit period'\n",
    "        P = transit_P * u.day\n",
    "        t0 = transit_time\n",
    "\n",
    "    else:  # use RV P\n",
    "        fold_text = 'folded on RV period'\n",
    "        visits = allvisit[allvisit['APOGEE_ID'] == row['APOGEE_ID']]\n",
    "        P = row['MAP_P']\n",
    "        t0 = Time(visits['JD'].min() + row['MAP_M0'].to_value(u.radian)/(2*np.pi) * P.to_value(u.day),\n",
    "                  format='jd', scale='tcb')\n",
    "    \n",
    "    visits = allvisit[allvisit['APOGEE_ID'] == row['APOGEE_ID']]\n",
    "    rv_data = get_rvdata(visits)\n",
    "    fig, axes = plot_folded(stitched_lc, rv_data=rv_data, \n",
    "                            P=P, t0=t0,\n",
    "                            kepid=f\"KIC {row['kepid']}\", row=row,\n",
    "                            fold_text=fold_text)\n",
    "    \n",
    "    fig.savefig(plot_filename, dpi=250)\n",
    "    plt.close(fig)"
   ]
  },
  {
   "cell_type": "code",
   "execution_count": null,
   "metadata": {},
   "outputs": [],
   "source": [
    "# for row in k2_sample:\n",
    "#     plot_filename = os.path.join(plot_path, f\"k2-lc-{row['APOGEE_ID']}.png\")\n",
    "# #     if os.path.exists(plot_filename):\n",
    "# #         continue\n",
    "    \n",
    "#     lcfs = lk.search_lightcurvefile(f\"EPIC {row['epic_number']}\", mission='K2').download_all()\n",
    "#     try:\n",
    "#         stitched_lc = lcfs.PDCSAP_FLUX.stitch()\n",
    "#     except ValueError:\n",
    "#         print(f\"Weirdo light curve for {row['APOGEE_ID']}\")\n",
    "#         # stitched_lc = lcfs[0].PDCSAP_FLUX.stitch()\n",
    "#         continue\n",
    "    \n",
    "#     transit_time, transit_P = get_transit_period(stitched_lc, row['MAP_P'])\n",
    "#     frac_dP = np.abs(transit_P-row['MAP_P'].value) / row['MAP_P'].value\n",
    "    \n",
    "#     if frac_dP < 0.1:  # use transit P\n",
    "#         fold_text = 'folded on transit period'\n",
    "#         P = transit_P * u.day\n",
    "#         t0 = transit_time\n",
    "\n",
    "#     else:  # use RV P\n",
    "#         fold_text = 'folded on RV period'\n",
    "#         visits = allvisit[allvisit['APOGEE_ID'] == row['APOGEE_ID']]\n",
    "#         P = row['MAP_P']\n",
    "#         t0 = Time(visits['JD'].min() + row['MAP_M0'].to_value(u.radian)/(2*np.pi) * P.to_value(u.day),\n",
    "#                   format='jd', scale='tcb')\n",
    "    \n",
    "#     visits = allvisit[allvisit['APOGEE_ID'] == row['APOGEE_ID']]\n",
    "#     rv_data = get_rvdata(visits)\n",
    "#     fig, ax = plot_folded(stitched_lc, rv_data=rv_data, \n",
    "#                           P=P, t0=t0,\n",
    "#                           kepid=f\"EPIC {row['epic_number']}\", row=row,\n",
    "#                           fold_text=fold_text)\n",
    "    \n",
    "#     fig.savefig(plot_filename, dpi=250)\n",
    "#     plt.close(fig)"
   ]
  },
  {
   "cell_type": "markdown",
   "metadata": {},
   "source": [
    "## From full catalog, find binaries with support at P < 100 days:"
   ]
  },
  {
   "cell_type": "code",
   "execution_count": null,
   "metadata": {},
   "outputs": [],
   "source": [
    "import tables as tb\n",
    "import exoplanet as xo"
   ]
  },
  {
   "cell_type": "code",
   "execution_count": null,
   "metadata": {},
   "outputs": [],
   "source": [
    "def get_lomb_period(lc):\n",
    "    # Convert to parts per thousand\n",
    "    x = lc.astropy_time.tcb.jd\n",
    "    y = lc.flux\n",
    "    mu = np.nanmedian(y)\n",
    "    y = (y / mu - 1) * 1e3\n",
    "    yerr = lc.flux_err * 1e3\n",
    "\n",
    "    x_ref = np.min(x)\n",
    "    x = x - x_ref\n",
    "    \n",
    "    # ---\n",
    "    \n",
    "    m = np.isfinite(y)\n",
    "    results = xo.estimators.lomb_scargle_estimator(\n",
    "        x[m], y[m], \n",
    "        max_peaks=1, min_period=2., max_period=100.0, samples_per_peak=50\n",
    "    )\n",
    "    \n",
    "    peak = results[\"peaks\"][0]\n",
    "    freq, power = results[\"periodogram\"]\n",
    "    \n",
    "    return peak[\"period\"]"
   ]
  },
  {
   "cell_type": "code",
   "execution_count": null,
   "metadata": {},
   "outputs": [],
   "source": [
    "def plot_folded_multi(lc, rv_data, Ps, t0,\n",
    "                      kepid, row, labels):\n",
    "    \n",
    "    fig, axes = plt.subplots(1 + len(Ps), 1, figsize=(12, 12), sharex=True)\n",
    "    \n",
    "    for n, P in enumerate(Ps):\n",
    "        ax = axes[n]\n",
    "        phase = ((lc.astropy_time - t0).jd / P.to_value(u.day) + 0.5) % 1. - 0.5\n",
    "\n",
    "        for i in [-1, 0, 1]:\n",
    "            cc = ax.scatter(phase + i, lc.flux,\n",
    "                            s=1, alpha=0.2, lw=1, \n",
    "                            c=lc.time)\n",
    "\n",
    "        ax.axhline(1, marker='', zorder=100, color='w', alpha=0.4)\n",
    "        \n",
    "        ax.set_xlim(-0.75, 0.75)\n",
    "        ax.set_ylabel('Normalized Flux', fontsize=12)\n",
    "        # cb = fig.colorbar(cc)\n",
    "        # cb.set_label('Kepler time', fontsize=14)\n",
    "\n",
    "        # ylim = (ax.get_ylim()[0], np.nanpercentile(stitched_lc.flux, 99))\n",
    "        ylim = np.nanpercentile(stitched_lc.flux, [0.01, 99.])\n",
    "        yptp = ylim[1] - ylim[0]\n",
    "        ylim = (ylim[0] - 0.5*yptp, ylim[1] + 0.5*yptp)\n",
    "        ax.set_ylim(ylim)\n",
    "\n",
    "        yspan = ylim[1] - ylim[0]\n",
    "        ax.text(0.7, ylim[1] - yspan/20, labels[n],\n",
    "                ha='right', va='top', color='#777777')\n",
    "        \n",
    "        if n == 0:\n",
    "            ax.set_title(f\"{kepid}    {row['APOGEE_ID']}\",\n",
    "                         fontsize=18)\n",
    "            \n",
    "            info_text = (f\"$P={row['MAP_P'].value:.2f}$ {u.day:latex_inline}\\n\" + \n",
    "                         f\"$e={row['MAP_e']:.2f}$\\n\" +\n",
    "                         f\"$M_2\\,\\sin i={row['m2_min_50'].value:.2f}$ {u.Msun:latex_inline}$=\" + \n",
    "                         f\"{row['m2_min_50'].to_value(u.Mjup):.1f}$ {u.Mjup:latex_inline}\\n\" + \n",
    "                         r\"$\\varpi \" + f\"= {row['parallax']:.2f}$\")\n",
    "            ax.text(-0.7, ylim[1] - yspan/20, info_text,\n",
    "                    ha='left', va='top', color='#222222',\n",
    "                    fontsize=12, bbox=dict(facecolor='w', alpha=0.7))\n",
    "\n",
    "            info_text = (r\"$[{\\rm M}/{\\rm H}] = \" + f\"{row['M_H']:.2f}$\\n\" + \n",
    "                         r\"$T_{\\rm eff}=\" + f\"{row['TEFF']:.0f}$\\n\" + \n",
    "                         r\"$\\log g = \" + f\"{row['LOGG']:.2f}$\")\n",
    "            ax.text(-0.7, ylim[0] + yspan/20, info_text,\n",
    "                    ha='left', va='bottom', color='#222222',\n",
    "                    fontsize=12, bbox=dict(facecolor='w', alpha=0.7))\n",
    "    \n",
    "    # Radial velocity\n",
    "    ax = axes[len(Ps)]\n",
    "    phase = ((rv_data.t - t0).jd / P.to_value(u.day) + 0.5) % 1. - 0.5\n",
    "    ax.errorbar(phase, (rv_data.rv - row['MAP_v0']).to_value(u.km/u.s), \n",
    "                yerr=rv_data.rv_err.to_value(u.km/u.s),\n",
    "                marker='o', ls='none')\n",
    "    ax.axhline(0, zorder=-100, color='#cccccc')\n",
    "    \n",
    "    ax.set_xlabel('Phase')\n",
    "    ax.set_ylabel(f'$v_r - v_0$ [{u.km/u.s:latex_inline}]')\n",
    "    ax.set_ylim(-1.5*row['MAP_K'].to_value(u.km/u.s),\n",
    "                 1.5*row['MAP_K'].to_value(u.km/u.s))\n",
    "    \n",
    "    fig.set_facecolor('w')\n",
    "    fig.tight_layout()\n",
    "    return fig, axes"
   ]
  },
  {
   "cell_type": "code",
   "execution_count": null,
   "metadata": {},
   "outputs": [],
   "source": [
    "with tb.open_file('../catalogs/lnK0.0_logL4.6_samples.hdf5', 'r') as f:\n",
    "    all_samples = f.root.samples.read()"
   ]
  },
  {
   "cell_type": "code",
   "execution_count": null,
   "metadata": {},
   "outputs": [],
   "source": [
    "good_apids = []\n",
    "for row in full_kep_sample:\n",
    "    apid = np.array(row['APOGEE_ID']).astype(all_samples['APOGEE_ID'].dtype)\n",
    "    samples = all_samples[all_samples['APOGEE_ID'] == apid]\n",
    "    \n",
    "    frac = (samples['P'] < 100.).sum() / len(samples)\n",
    "    if frac > 0.5:\n",
    "        good_apids.append(row['APOGEE_ID'])"
   ]
  },
  {
   "cell_type": "code",
   "execution_count": null,
   "metadata": {},
   "outputs": [],
   "source": [
    "len(good_apids)"
   ]
  },
  {
   "cell_type": "code",
   "execution_count": null,
   "metadata": {},
   "outputs": [],
   "source": [
    "os.makedirs(os.path.join(plot_path, 'multimodal'), exist_ok=True)\n",
    "             \n",
    "for row in full_kep_sample[np.isin(full_kep_sample['APOGEE_ID'].astype(str), good_apids)]:\n",
    "    plot_filename = os.path.join(plot_path, 'multimodal', f\"kepler-lc-{row['APOGEE_ID']}.png\")\n",
    "    if os.path.exists(plot_filename):\n",
    "        continue\n",
    "    \n",
    "    try:\n",
    "        lcfs = lk.search_lightcurvefile(f\"KIC {row['kepid']}\", mission='Kepler').download_all()\n",
    "        stitched_lc = lcfs.PDCSAP_FLUX.stitch()\n",
    "    except ValueError:\n",
    "        print(f\"Weirdo light curve for {row['APOGEE_ID']}\")\n",
    "        # stitched_lc = lcfs[0].PDCSAP_FLUX.stitch()\n",
    "        continue\n",
    "    \n",
    "    rv_P = row['MAP_P']\n",
    "    transit_time, transit_P = get_transit_period(stitched_lc)\n",
    "    lomb_P = get_lomb_period(stitched_lc) * u.day\n",
    "    \n",
    "    visits = allvisit[allvisit['APOGEE_ID'] == row['APOGEE_ID']]\n",
    "    rv_data = get_rvdata(visits)\n",
    "    fig, axes = plot_folded_multi(stitched_lc, rv_data, \n",
    "                                  [rv_P, lomb_P, transit_P*u.day], \n",
    "                                  transit_time,\n",
    "                                  f\"KIC {row['kepid']}\", row,\n",
    "                                  labels=['RV period', 'Lomb-Scargle period', 'BLS period'])\n",
    "    \n",
    "    fig.savefig(plot_filename, dpi=250)\n",
    "    plt.close(fig)"
   ]
  },
  {
   "cell_type": "code",
   "execution_count": null,
   "metadata": {},
   "outputs": [],
   "source": []
  }
 ],
 "metadata": {
  "kernelspec": {
   "display_name": "conda-hq",
   "language": "python",
   "name": "conda-hq"
  },
  "language_info": {
   "codemirror_mode": {
    "name": "ipython",
    "version": 3
   },
   "file_extension": ".py",
   "mimetype": "text/x-python",
   "name": "python",
   "nbconvert_exporter": "python",
   "pygments_lexer": "ipython3",
   "version": "3.7.5"
  }
 },
 "nbformat": 4,
 "nbformat_minor": 4
}
