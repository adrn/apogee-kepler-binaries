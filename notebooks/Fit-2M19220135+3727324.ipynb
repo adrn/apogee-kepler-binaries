{
 "cells": [
  {
   "cell_type": "code",
   "execution_count": null,
   "metadata": {},
   "outputs": [],
   "source": [
    "import os\n",
    "\n",
    "from astropy.io import fits\n",
    "import astropy.table as at\n",
    "import astropy.coordinates as coord\n",
    "import astropy.units as u\n",
    "\n",
    "import h5py\n",
    "import matplotlib as mpl\n",
    "import matplotlib.pyplot as plt\n",
    "%matplotlib inline\n",
    "import numpy as np\n",
    "from tqdm.notebook import tqdm\n",
    "import thejoker as tj\n",
    "import lightkurve as lk\n",
    "\n",
    "import pymc3 as pm\n",
    "import theano.tensor as tt\n",
    "import exoplanet as xo\n",
    "\n",
    "from hq.data import get_rvdata\n",
    "from hq.samples_analysis import extract_MAP_sample"
   ]
  },
  {
   "cell_type": "code",
   "execution_count": null,
   "metadata": {},
   "outputs": [],
   "source": [
    "kepid = 'KIC 2010607'\n",
    "apid = '2M19220135+3727324'"
   ]
  },
  {
   "cell_type": "code",
   "execution_count": null,
   "metadata": {},
   "outputs": [],
   "source": [
    "allvisit = fits.getdata('/mnt/home/apricewhelan/data/APOGEE_DR16/allVisit-r12-l33.fits')\n",
    "gold = at.QTable(at.Table.read('../catalogs/gold_sample.fits').filled())\n",
    "row = gold[gold['APOGEE_ID'] == apid]"
   ]
  },
  {
   "cell_type": "code",
   "execution_count": null,
   "metadata": {},
   "outputs": [],
   "source": [
    "visits = allvisit[allvisit['APOGEE_ID'] == apid]\n",
    "rv_data = get_rvdata(visits)"
   ]
  },
  {
   "cell_type": "code",
   "execution_count": null,
   "metadata": {},
   "outputs": [],
   "source": [
    "sample = extract_MAP_sample(row)\n",
    "_ = tj.plot_phase_fold(data=rv_data, sample=sample)"
   ]
  },
  {
   "cell_type": "code",
   "execution_count": null,
   "metadata": {},
   "outputs": [],
   "source": [
    "lcfs = lk.search_lightcurvefile(kepid, mission='Kepler').download_all()\n",
    "stitched_lc = lcfs.PDCSAP_FLUX.stitch()"
   ]
  },
  {
   "cell_type": "code",
   "execution_count": null,
   "metadata": {},
   "outputs": [],
   "source": [
    "# From DFM!\n",
    "with lcfs[0].hdu as hdu:\n",
    "    tpf_hdr = hdu[1].header\n",
    "texp = tpf_hdr[\"FRAMETIM\"] * tpf_hdr[\"NUM_FRM\"]\n",
    "texp /= 60.0 * 60.0 * 24.0  # days"
   ]
  },
  {
   "cell_type": "code",
   "execution_count": null,
   "metadata": {},
   "outputs": [],
   "source": [
    "fig, ax = plt.subplots(1, 1, figsize=(14, 6))\n",
    "ax.plot(stitched_lc.astropy_time.tcb.jd,\n",
    "        stitched_lc.flux,\n",
    "        marker='o', ls='none', mew=0, ms=1.5, alpha=0.5)\n",
    "\n",
    "MAD = np.nanmedian(np.abs(stitched_lc.flux - np.nanmedian(stitched_lc.flux)))\n",
    "std = 1.5 * MAD\n",
    "mask = (stitched_lc.flux - 1) < 6*std\n",
    "ax.plot(stitched_lc.astropy_time.tcb.jd[~mask],\n",
    "        stitched_lc.flux[~mask],\n",
    "        marker='x', mew=2, ls='none', ms=8, color='r', zorder=10)\n",
    "\n",
    "lc = stitched_lc[mask]"
   ]
  },
  {
   "cell_type": "code",
   "execution_count": null,
   "metadata": {},
   "outputs": [],
   "source": [
    "# Convert to parts per thousand\n",
    "x = lc.astropy_time.tcb.jd\n",
    "y = lc.flux\n",
    "mu = np.median(y)\n",
    "y = (y / mu - 1) * 1e3\n",
    "yerr = lc.flux_err * 1e3\n",
    "\n",
    "x_ref = np.min(x)\n",
    "x = x - x_ref"
   ]
  },
  {
   "cell_type": "code",
   "execution_count": null,
   "metadata": {},
   "outputs": [],
   "source": [
    "len(x)"
   ]
  },
  {
   "cell_type": "code",
   "execution_count": null,
   "metadata": {},
   "outputs": [],
   "source": [
    "fig, ax = plt.subplots(1, 1, figsize=(14, 6))\n",
    "ax.plot(x, y,\n",
    "        marker='o', ls='none', mew=0, ms=1.5, alpha=0.5)\n",
    "ax.set_xlim(0, 500)"
   ]
  },
  {
   "cell_type": "markdown",
   "metadata": {},
   "source": [
    "Radial velocity data, relative to the same reference time:"
   ]
  },
  {
   "cell_type": "code",
   "execution_count": null,
   "metadata": {},
   "outputs": [],
   "source": [
    "x_rv = rv_data.t.tcb.jd - x_ref\n",
    "y_rv = (rv_data.rv - row['MAP_v0'][0]).to_value(u.m/u.s)\n",
    "yerr_rv = rv_data.rv_err.to_value(u.m/u.s)\n",
    "mean_rv = np.mean(y_rv)"
   ]
  },
  {
   "cell_type": "code",
   "execution_count": null,
   "metadata": {},
   "outputs": [],
   "source": [
    "fig, ax = plt.subplots(1, 1, figsize=(12, 6))\n",
    "phase = (x / row['MAP_P'].value * 1.00025006 + 0.5) % 1. - 0.5\n",
    "cc = ax.scatter(phase, y, c=lc.time,\n",
    "                s=1, alpha=0.4, lw=1)\n",
    "ax.set_xlabel('Phase')\n",
    "ax.set_ylabel('Normalized Flux')\n",
    "\n",
    "ax.set_xlim(-0.05, 0.25)\n",
    "# ax.set_xlim(-0.5, 0.5)\n",
    "\n",
    "cb = fig.colorbar(cc)\n",
    "cb.set_label('Kepler time', fontsize=14)\n",
    "fig.set_facecolor('w')\n",
    "fig.tight_layout()"
   ]
  },
  {
   "cell_type": "code",
   "execution_count": null,
   "metadata": {},
   "outputs": [],
   "source": [
    "PP = row['MAP_P'].value / 1.00025006\n",
    "\n",
    "fig, axes = plt.subplots(2, 1, figsize=(10, 8),\n",
    "                         sharex=True)\n",
    "\n",
    "ax = axes[0]\n",
    "phase = (x / PP + 0.5) % 1. - 0.5\n",
    "ax.plot(phase, y, \n",
    "        ms=1.5, ls='none', color='k', alpha=0.25)\n",
    "# ax.set_xlabel('Phase')\n",
    "ax.set_ylabel('Normalized Flux')\n",
    "\n",
    "# ax.set_xlim(0.45, 0.75)\n",
    "ax.set_xlim(-0.5, 0.5)\n",
    "\n",
    "ax = axes[1]\n",
    "phase = (x_rv / PP + 0.5) % 1. - 0.5\n",
    "ax.errorbar(phase, y_rv/1e3, \n",
    "            yerr=np.sqrt((yerr_rv/1e3)**2 + row['MAP_s'].to_value(u.km/u.s)[0]**2), \n",
    "            marker='o', ls='none')\n",
    "\n",
    "ax.set_xlabel('Phase')\n",
    "ax.set_ylabel('RV [km/s]')\n",
    "\n",
    "fig.set_facecolor('w')\n",
    "fig.tight_layout()"
   ]
  },
  {
   "cell_type": "code",
   "execution_count": null,
   "metadata": {},
   "outputs": [],
   "source": [
    "from astropy.timeseries import BoxLeastSquares\n",
    "\n",
    "m = np.zeros(len(x), dtype=bool)\n",
    "period_grid = np.exp(np.linspace(np.log(sample['P'][0].value)-0.5, \n",
    "                                 np.log(sample['P'][0].value)+0.5, \n",
    "                                 10000))\n",
    "\n",
    "bls = BoxLeastSquares(x[~m], y[~m])\n",
    "bls_power = bls.power(period_grid, 0.1, oversample=20)\n",
    "\n",
    "# Save the highest peak as the planet candidate\n",
    "index = np.argmax(bls_power.power)\n",
    "bls_period = bls_power.period[index]\n",
    "bls_t0 = bls_power.transit_time[index]\n",
    "bls_depth = bls_power.depth[index]"
   ]
  },
  {
   "cell_type": "code",
   "execution_count": null,
   "metadata": {},
   "outputs": [],
   "source": [
    "fig, ax = plt.subplots(1, 1, figsize=(14, 6))\n",
    "ax.plot(x, y,\n",
    "        marker='o', ls='none', mew=0, ms=1.5, alpha=0.5)\n",
    "ax.set_xlim(0, 200)\n",
    "for i in range(10):\n",
    "    ax.axvline(bls_t0 + i*bls_period, color='tab:red', alpha=0.25)"
   ]
  },
  {
   "cell_type": "markdown",
   "metadata": {},
   "source": [
    "Load primary stellar radius and mass from STARHORSE and Gaia:"
   ]
  },
  {
   "cell_type": "code",
   "execution_count": null,
   "metadata": {},
   "outputs": [],
   "source": [
    "M_star = row['mass'][0], row['mass_err'][0]\n",
    "R_star = row['radius_val'][0], row['radius_val'][0] - row['radius_percentile_lower'][0]\n",
    "M_star, R_star"
   ]
  },
  {
   "cell_type": "code",
   "execution_count": null,
   "metadata": {},
   "outputs": [],
   "source": [
    "msini = row['m2_min_50'][0].to(u.M_sun)\n",
    "msini, msini.to(u.Mjup)"
   ]
  },
  {
   "cell_type": "markdown",
   "metadata": {},
   "source": [
    "---\n",
    "\n",
    "## Try fitting RV's only:"
   ]
  },
  {
   "cell_type": "code",
   "execution_count": null,
   "metadata": {},
   "outputs": [],
   "source": [
    "rv_span = np.max(x_rv) - np.min(x_rv)\n",
    "t_rv = np.arange(x_rv.min() - rv_span/10, \n",
    "                 x_rv.max() + rv_span/10, \n",
    "                 row['MAP_P'][0].to_value(u.day) / 128)\n",
    "\n",
    "\n",
    "def build_rv_model(rv_t0, rv_period, rv_omega):\n",
    "        \n",
    "    with pm.Model() as model:\n",
    "\n",
    "        BoundedNormal = pm.Bound(pm.Normal, lower=0.5, upper=3)\n",
    "        m_star = BoundedNormal(\"m_star\", mu=M_star[0], sd=M_star[1])\n",
    "        r_star = BoundedNormal(\"r_star\", mu=R_star[0], sd=R_star[1])\n",
    "        \n",
    "        # Parameters of the companion\n",
    "        logm = pm.Normal(\"logm\", mu=np.log(msini.value), sd=1)  # companion mass\n",
    "        m_pl = pm.Deterministic(\"m_pl\", tt.exp(logm))\n",
    "        \n",
    "        # Parameters of the orbit\n",
    "        logP = pm.Normal(\"logP\", mu=np.log(rv_period), sd=1)\n",
    "        t_peri = pm.Normal(\"t_peri\", mu=rv_t0, sd=1, testval=rv_t0)\n",
    "        ecc = xo.distributions.eccentricity.kipping13(\n",
    "            \"ecc\", long=False, testval=0.59\n",
    "        )\n",
    "        omega = xo.distributions.Angle(\"omega\", testval=rv_omega)\n",
    "        period = pm.Deterministic(\"period\", tt.exp(logP))  # for tracking\n",
    "\n",
    "        # RV jitter\n",
    "        logs_rv = pm.Normal(\"logs_rv\", mu=np.log(500.), sd=0.5)  # MAP_s~350 m/s, but prob. bigger\n",
    "        rv0 = pm.Normal(\"rv0\", mu=0, sd=500.)  # m/s\n",
    "\n",
    "        # Orbit model\n",
    "        cosi = pm.Uniform('cosi', 0, 1)\n",
    "        incl = pm.Deterministic('incl', tt.arccos(cosi))\n",
    "        orbit = xo.orbits.KeplerianOrbit(\n",
    "            r_star=r_star,\n",
    "            m_star=m_star,\n",
    "            period=period,\n",
    "            t_periastron=t_peri,\n",
    "            incl=incl,\n",
    "            m_planet=xo.units.with_unit(m_pl, msini.unit),\n",
    "            ecc=ecc,\n",
    "            omega=omega,\n",
    "        )\n",
    "        \n",
    "        # Evaluate orbit model\n",
    "        vrad = orbit.get_radial_velocity(x_rv)\n",
    "\n",
    "        # Evaluate the likelihood for the RVs\n",
    "        rv_model = pm.Deterministic(\"rv_model\", vrad + rv0)\n",
    "        err = tt.sqrt(yerr_rv ** 2 + tt.exp(2 * logs_rv))\n",
    "        pm.Normal(\"rv_obs\", mu=rv_model, sd=err, observed=y_rv)\n",
    "\n",
    "        # Evaluate the RV model on a finer grid:\n",
    "        pm.Deterministic(\"rv_model_pred\", \n",
    "                         orbit.get_radial_velocity(t_rv) + rv0)\n",
    "        \n",
    "#         map_soln = model.test_point\n",
    "#         map_soln = xo.optimize(start=map_soln, vars=[logP, t0])\n",
    "#         map_soln = xo.optimize(start=map_soln, vars=[logP, t0, omega, ecc, rv0, logs_rv])\n",
    "#         map_soln = xo.optimize(start=map_soln)\n",
    "\n",
    "#     return model, map_soln\n",
    "    return model, None"
   ]
  },
  {
   "cell_type": "code",
   "execution_count": null,
   "metadata": {},
   "outputs": [],
   "source": [
    "rv_M0 = row['MAP_M0'][0]\n",
    "rv_P = row['MAP_P'][0].to_value(u.day)\n",
    "rv_omega = row['MAP_omega'][0].to(u.rad)\n",
    "\n",
    "rv_t0 = rv_data.t0 - Time(x_ref, format='jd', scale='tcb')\n",
    "rv_t0 = rv_t0.jd - rv_M0 / (2*np.pi*u.rad) * rv_P\n",
    "rv_t0 = rv_t0.value\n",
    "rv_t0"
   ]
  },
  {
   "cell_type": "code",
   "execution_count": null,
   "metadata": {},
   "outputs": [],
   "source": [
    "for i in [0]:\n",
    "    _rv_model, _rv_soln = build_rv_model(rv_t0 + i, \n",
    "                                         rv_period=rv_P,\n",
    "                                         rv_omega=rv_omega)\n",
    "\n",
    "    with _rv_model:\n",
    "        rv_pred = xo.eval_in_model(_rv_model.rv_model_pred)\n",
    "\n",
    "    plt.plot(t_rv % rv_P, rv_pred)\n",
    "plt.scatter(x_rv % rv_P, y_rv)"
   ]
  },
  {
   "cell_type": "code",
   "execution_count": null,
   "metadata": {},
   "outputs": [],
   "source": [
    "rv_P, np.log(rv_P)"
   ]
  },
  {
   "cell_type": "code",
   "execution_count": null,
   "metadata": {},
   "outputs": [],
   "source": [
    "def plot_rv_curve(soln):\n",
    "    err = np.sqrt(yerr_rv ** 2 + np.exp(2 * soln[\"logs_rv\"]))\n",
    "    \n",
    "    fig, axes = plt.subplots(2, 1, figsize=(10, 7))\n",
    "\n",
    "    ax = axes[0]\n",
    "    ax.errorbar((x_rv/soln['period']) % 1, y_rv, yerr=yerr_rv, \n",
    "                marker='o', ls='none', color='k')\n",
    "    ax.errorbar((x_rv/soln['period']) % 1, y_rv, yerr=err, \n",
    "                marker='', ls='none', color='tab:red', zorder=-100)\n",
    "    ax.plot((t_rv/soln['period']) % 1, soln[\"rv_model_pred\"], label=\"model\")\n",
    "    ax.legend(fontsize=10)\n",
    "    ax.set_ylabel(\"radial velocity [m/s]\", fontsize=y_fontsize)\n",
    "    ax.set_xlim(0, 1)\n",
    "\n",
    "    ax = axes[1]\n",
    "    ax.errorbar(x_rv, y_rv - soln[\"rv_model\"], yerr=yerr_rv, \n",
    "                marker='o', ls='none', color='k')\n",
    "    ax.errorbar(x_rv, y_rv - soln[\"rv_model\"], yerr=err, \n",
    "                marker='', ls='none', color='tab:red', zorder=-100)\n",
    "    ax.axhline(0, color=\"k\", lw=1)\n",
    "    ax.set_ylabel(\"residuals [m/s]\", fontsize=y_fontsize)\n",
    "    ax.set_xlim(t_rv.min(), t_rv.max())\n",
    "    ax.set_xlabel(\"time [days]\")\n",
    "    fig.tight_layout()\n",
    "    \n",
    "_rv_soln[\"logs_rv\"] = np.log(500.)\n",
    "plot_rv_curve(_rv_soln)"
   ]
  },
  {
   "cell_type": "markdown",
   "metadata": {},
   "source": [
    "---"
   ]
  },
  {
   "cell_type": "code",
   "execution_count": null,
   "metadata": {},
   "outputs": [],
   "source": [
    "Rs = R_star[0] * u.Rsun\n",
    "a = 0.14*u.AU\n",
    "TD = 0.18 * u.day\n",
    "P = row['MAP_P'][0]\n",
    "b = 1.\n",
    "with u.set_enabled_equivalencies(u.dimensionless_angles()):\n",
    "    Rp = np.sqrt((a * np.sin(np.pi*TD/P))**2 + (b*Rs)**2) - Rs\n",
    "Rp.to(u.Rsun)"
   ]
  },
  {
   "cell_type": "code",
   "execution_count": null,
   "metadata": {},
   "outputs": [],
   "source": [
    "elem = TwoBodyKeplerElements(P=row['MAP_P'][0], e=0.6, \n",
    "                             m1=M_star[0]*u.Msun,\n",
    "                             m2=0.25*u.Msun, \n",
    "                             omega=0*u.rad, i=90*u.deg)\n",
    "orbit1 = KeplerOrbit(elem.primary)\n",
    "orbit2 = KeplerOrbit(elem.secondary)\n",
    "ts = rv_data.t0 + np.linspace(0, 30, 8192)*u.day\n",
    "\n",
    "RR = orbit1.reference_plane(ts).data.without_differentials() - orbit2.reference_plane(ts).data.without_differentials()\n",
    "plt.plot((RR.norm() / (R_star[0]*u.Rsun)).decompose())"
   ]
  },
  {
   "cell_type": "markdown",
   "metadata": {},
   "source": [
    "---"
   ]
  },
  {
   "cell_type": "markdown",
   "metadata": {},
   "source": [
    "In The Joker, t0 is pericenter of the primary, but in exoplanet it is the secondary? For some reason, our definitions of t0 are off by 1/2 period..."
   ]
  },
  {
   "cell_type": "code",
   "execution_count": null,
   "metadata": {},
   "outputs": [],
   "source": [
    "rv_M0 = row['MAP_M0'][0]\n",
    "rv_P = row['MAP_P'][0].to_value(u.day)\n",
    "rv_omega = row['MAP_omega'][0].to(u.rad)\n",
    "\n",
    "rv_t0 = rv_data.t0 - Time(x_ref, format='jd', scale='tcb')\n",
    "rv_t0 = rv_t0.jd - rv_M0 / (2*np.pi*u.rad) * rv_P\n",
    "rv_t0 = rv_t0.value\n",
    "rv_t0"
   ]
  },
  {
   "cell_type": "markdown",
   "metadata": {},
   "source": [
    "## Try fitting light curve only:"
   ]
  },
  {
   "cell_type": "code",
   "execution_count": null,
   "metadata": {},
   "outputs": [],
   "source": [
    "def build_lc_model(phot_mask=None, start=None):\n",
    "    if phot_mask is None:\n",
    "        phot_mask = np.ones(len(x), dtype=bool)\n",
    "        \n",
    "    with pm.Model() as model:\n",
    "\n",
    "        # Parameters for the stellar properties of the primary\n",
    "        BoundedNormal = pm.Bound(pm.Normal, lower=0.5, upper=3)\n",
    "        m_star = BoundedNormal(\"m_star\", mu=M_star[0], sd=M_star[1])\n",
    "        r_star = BoundedNormal(\"r_star\", mu=R_star[0], sd=R_star[1])\n",
    "\n",
    "        # Parameters of the companion\n",
    "        logm = pm.Normal(\"logm\", mu=np.log(msini.value), sd=1)  # companion mass\n",
    "        m_pl = pm.Deterministic(\"m_pl\", tt.exp(logm))\n",
    "        \n",
    "        # Parameters of the orbit\n",
    "        logP = pm.Normal(\"logP\", mu=np.log(rv_P), sd=1)\n",
    "        t_peri = pm.Normal(\"t_peri\", mu=rv_t0, sd=1, testval=rv_t0)\n",
    "        \n",
    "        ecc = pm.Bound(pm.Normal, lower=0, upper=1)(\"ecc\", mu=0.59, sd=0.05, testval=0.59)\n",
    "#         ecc = xo.distributions.eccentricity.kipping13(\n",
    "#             \"ecc\", long=False, testval=0.59\n",
    "#         )\n",
    "        omega = xo.distributions.Angle(\"omega\", testval=rv_omega)\n",
    "        period = pm.Deterministic(\"period\", tt.exp(logP))  # for tracking\n",
    "\n",
    "        # Flux jitter & GP parameters\n",
    "        logs2 = pm.Normal(\"logs2\", mu=np.log(np.var(y[phot_mask])), sd=2)\n",
    "        logw0 = pm.Normal(\"logw0\", mu=0., sd=3)\n",
    "        # logSw4 = pm.Normal(\"logSw4\", mu=np.log(np.var(y[phot_mask])), sd=0.2)\n",
    "        # logSw4 = pm.Normal(\"logSw4\", mu=-4.5, sd=1)\n",
    "        logSw4 = pm.Constant(\"logSw4\", -10., testval=-10)\n",
    "\n",
    "        # Orbit model\n",
    "        cosi = pm.Uniform('cosi', 0, 1)\n",
    "        incl = pm.Deterministic('incl', tt.arccos(cosi))\n",
    "        orbit = xo.orbits.KeplerianOrbit(\n",
    "            r_star=r_star,\n",
    "            m_star=m_star,\n",
    "            period=period,\n",
    "            t_periastron=t_peri,\n",
    "            incl=incl,\n",
    "            m_planet=xo.units.with_unit(m_pl, msini.unit),\n",
    "            ecc=ecc,\n",
    "            omega=omega,\n",
    "        )\n",
    "        \n",
    "        # ==============================================================\n",
    "        # Light curve:\n",
    "        #\n",
    "        mean_flux = pm.Normal(\"mean_flux\", mu=0.0, sd=1.0)\n",
    "        \n",
    "        # Compute the Heartbeat model\n",
    "        sinf, cosf = orbit._get_true_anomaly(x[phot_mask])\n",
    "        f = tt.arctan2(sinf, cosf)[:, 0]\n",
    "        pm.Deterministic(\"f\", f)\n",
    "        dX, dY, dZ = orbit.get_relative_position(x[phot_mask])\n",
    "        R = tt.sqrt(dX**2 + dY**2 + dZ**2)\n",
    "        logS = pm.Normal('logS', mu=-2.5, sd=0.1, testval=-2.5)\n",
    "        S = pm.Deterministic('S', tt.exp(logS))\n",
    "        hb_light_curve = S * (\n",
    "            (1 - 3 * tt.sin(incl)**2 * tt.sin(f - omega)**2) / (R / orbit.a)**3\n",
    "        )\n",
    "        pm.Deterministic(\"heartbeat_light_curve\", hb_light_curve)\n",
    "        \n",
    "        # GP model for the light curve\n",
    "        # Set up the Gaussian Process model\n",
    "        kernel = xo.gp.terms.SHOTerm(log_Sw4=logSw4, \n",
    "                                     log_w0=logw0, \n",
    "                                     Q=1 / np.sqrt(2))\n",
    "        gp = xo.gp.GP(kernel, x[phot_mask], \n",
    "                      yerr[phot_mask]**2 + tt.exp(logs2))\n",
    "        \n",
    "        pm.Potential(\"transit_obs\", \n",
    "                     gp.log_likelihood(y[phot_mask] - (hb_light_curve + mean_flux)))\n",
    "        pm.Deterministic(\"gp_pred\", gp.predict())\n",
    "\n",
    "        # Fit for the maximum a posteriori parameters, I've found that I can get\n",
    "        # a better solution by trying different combinations of parameters in turn\n",
    "        if start is None:\n",
    "            start = model.test_point\n",
    "        map_soln = xo.optimize(start=start, vars=[logP, t_peri])\n",
    "        map_soln = xo.optimize(start=map_soln, vars=[logP, t_peri, omega, ecc])\n",
    "        map_soln = xo.optimize(start=map_soln, vars=[logS])\n",
    "        map_soln = xo.optimize(start=map_soln, vars=[logs2, logSw4, logw0])\n",
    "        map_soln = xo.optimize(start=map_soln, vars=[logP, t_peri, omega, ecc])\n",
    "        map_soln = xo.optimize(start=map_soln)\n",
    "\n",
    "    return model, map_soln"
   ]
  },
  {
   "cell_type": "code",
   "execution_count": null,
   "metadata": {},
   "outputs": [],
   "source": [
    "sub_mask = np.zeros(len(x), dtype=bool)\n",
    "sub_mask[:15000] = True\n",
    "sub_mask &= np.isfinite(y)\n",
    "\n",
    "lc_model, lc_map_soln = build_lc_model(phot_mask=sub_mask)"
   ]
  },
  {
   "cell_type": "code",
   "execution_count": null,
   "metadata": {},
   "outputs": [],
   "source": [
    "y_fontsize = 12\n",
    "\n",
    "def plot_light_curve(soln, mask=None):\n",
    "    if mask is None:\n",
    "        mask = np.ones(len(x), dtype=bool)\n",
    "\n",
    "    fig, axes = plt.subplots(4, 1, figsize=(12, 12), sharex=True, sharey=True)\n",
    "\n",
    "    ax = axes[0]\n",
    "    ax.plot(x[mask], y[mask], \"k\", label=\"data\")\n",
    "    gp_mod = soln[\"gp_pred\"] + soln[\"mean_flux\"]\n",
    "    ax.plot(x[mask], gp_mod, color=\"C2\", label=\"gp model\")\n",
    "    ax.legend(fontsize=10)\n",
    "    ax.set_ylabel(\"relative flux [ppt]\", fontsize=y_fontsize)\n",
    "\n",
    "    ax = axes[1]\n",
    "    ax.plot(x[mask], y[mask] - gp_mod, \"k\")\n",
    "    ax.set_ylabel(\"de-trended flux [ppt]\", fontsize=y_fontsize)\n",
    "    \n",
    "    ax = axes[2]\n",
    "    ax.plot(x[mask], soln[\"heartbeat_light_curve\"], \"k\")\n",
    "    ax.set_ylabel(\"heartbeat [ppt]\", fontsize=y_fontsize)\n",
    "\n",
    "    ax = axes[3]\n",
    "    mod = gp_mod + soln[\"heartbeat_light_curve\"]\n",
    "    ax.plot(x[mask], y[mask] - mod, \"k\")\n",
    "    ax.axhline(0, color=\"#aaaaaa\", lw=1)\n",
    "    ax.set_ylabel(\"residuals [ppt]\", fontsize=y_fontsize)\n",
    "    ax.set_xlim(x[mask].min(), x[mask].max())\n",
    "    ax.set_xlabel(\"time [days]\")\n",
    "    \n",
    "    fig.set_facecolor('w')\n",
    "    fig.tight_layout()\n",
    "\n",
    "    return fig"
   ]
  },
  {
   "cell_type": "code",
   "execution_count": null,
   "metadata": {},
   "outputs": [],
   "source": [
    "lc_map_soln"
   ]
  },
  {
   "cell_type": "code",
   "execution_count": null,
   "metadata": {},
   "outputs": [],
   "source": [
    "_ = plot_light_curve(lc_map_soln, sub_mask)"
   ]
  },
  {
   "cell_type": "markdown",
   "metadata": {},
   "source": [
    "## Try fitting light curve without GP:"
   ]
  },
  {
   "cell_type": "code",
   "execution_count": null,
   "metadata": {},
   "outputs": [],
   "source": [
    "def build_hb_only_lc_model(phot_mask=None, start=None):\n",
    "    if phot_mask is None:\n",
    "        phot_mask = np.ones(len(x), dtype=bool)\n",
    "        \n",
    "    with pm.Model() as model:\n",
    "\n",
    "        # Parameters for the stellar properties of the primary\n",
    "        BoundedNormal = pm.Bound(pm.Normal, lower=0.5, upper=3)\n",
    "        m_star = BoundedNormal(\"m_star\", mu=M_star[0], sd=M_star[1])\n",
    "        r_star = BoundedNormal(\"r_star\", mu=R_star[0], sd=R_star[1])\n",
    "\n",
    "        # Parameters of the companion\n",
    "        logm = pm.Normal(\"logm\", mu=np.log(msini.value), sd=1)  # companion mass\n",
    "        m_pl = pm.Deterministic(\"m_pl\", tt.exp(logm))\n",
    "        \n",
    "        # Parameters of the orbit\n",
    "        logP = pm.Normal(\"logP\", mu=np.log(rv_P), sd=1)\n",
    "        t_peri = pm.Normal(\"t_peri\", mu=rv_t0, sd=1, testval=rv_t0)\n",
    "        \n",
    "        ecc = pm.Bound(pm.Normal, lower=0, upper=1)(\n",
    "            \"ecc\", mu=0.59, sd=0.05, testval=0.59)\n",
    "        omega = xo.distributions.Angle(\"omega\", testval=rv_omega)\n",
    "        period = pm.Deterministic(\"period\", tt.exp(logP))  # for tracking\n",
    "\n",
    "        # Orbit model\n",
    "        cosi = pm.Uniform('cosi', 0, 1)\n",
    "        incl = pm.Deterministic('incl', tt.arccos(cosi))\n",
    "        orbit = xo.orbits.KeplerianOrbit(\n",
    "            r_star=r_star,\n",
    "            m_star=m_star,\n",
    "            period=period,\n",
    "            t_periastron=t_peri,\n",
    "            incl=incl,\n",
    "            m_planet=xo.units.with_unit(m_pl, msini.unit),\n",
    "            ecc=ecc,\n",
    "            omega=omega,\n",
    "        )\n",
    "        \n",
    "        # ==============================================================\n",
    "        # Light curve:\n",
    "        #\n",
    "        mean_flux = pm.Normal(\"mean_flux\", mu=0.0, sd=1.0)\n",
    "        \n",
    "        # Compute the Heartbeat model\n",
    "        sinf, cosf = orbit._get_true_anomaly(x[phot_mask])\n",
    "        f = tt.arctan2(sinf, cosf)[:, 0]\n",
    "        pm.Deterministic(\"f\", f)\n",
    "        dX, dY, dZ = orbit.get_relative_position(x[phot_mask])\n",
    "        R = tt.sqrt(dX**2 + dY**2 + dZ**2)\n",
    "        logS = pm.Normal('logS', mu=-2.5, sd=0.1, testval=-2.5)\n",
    "        S = pm.Deterministic('S', tt.exp(logS))\n",
    "        hb_light_curve = S * (\n",
    "            (1 - 3 * tt.sin(incl)**2 * tt.sin(f - omega)**2) / (R / orbit.a)**3\n",
    "        )\n",
    "        pm.Deterministic(\"heartbeat_light_curve\", hb_light_curve)\n",
    "        \n",
    "        pm.Normal(\"obs\", \n",
    "                  mu=hb_light_curve + mean_flux, \n",
    "                  sd=yerr[phot_mask], \n",
    "                  observed=y[phot_mask])\n",
    "\n",
    "        # Fit for the maximum a posteriori parameters, I've found that I can get\n",
    "        # a better solution by trying different combinations of parameters in turn\n",
    "        map_soln = model.test_point\n",
    "#         map_soln = xo.optimize(start=map_soln, vars=[logP, t_peri])\n",
    "#         map_soln = xo.optimize(start=map_soln, vars=[logP, t_peri, omega, ecc])\n",
    "#         map_soln = xo.optimize(start=map_soln, vars=[logS])\n",
    "#         map_soln = xo.optimize(start=map_soln)\n",
    "\n",
    "    return model, map_soln"
   ]
  },
  {
   "cell_type": "code",
   "execution_count": null,
   "metadata": {},
   "outputs": [],
   "source": [
    "sub_mask = np.zeros(len(x), dtype=bool)\n",
    "sub_mask[:15000] = True\n",
    "sub_mask &= np.isfinite(y)\n",
    "\n",
    "lc_model, lc_map_soln = build_hb_only_lc_model(phot_mask=sub_mask)"
   ]
  },
  {
   "cell_type": "code",
   "execution_count": null,
   "metadata": {},
   "outputs": [],
   "source": [
    "with lc_model:\n",
    "    derp = xo.eval_in_model(lc_model.heartbeat_light_curve)\n",
    "    \n",
    "derp.shape"
   ]
  },
  {
   "cell_type": "code",
   "execution_count": null,
   "metadata": {},
   "outputs": [],
   "source": [
    "map_estimate = pm.find_MAP(model=lc_model, method='powell')"
   ]
  },
  {
   "cell_type": "code",
   "execution_count": null,
   "metadata": {},
   "outputs": [],
   "source": [
    "map_estimate"
   ]
  },
  {
   "cell_type": "code",
   "execution_count": null,
   "metadata": {},
   "outputs": [],
   "source": [
    "y_fontsize = 12\n",
    "\n",
    "def plot_hb_only_light_curve(soln, mask=None):\n",
    "    if mask is None:\n",
    "        mask = np.ones(len(x), dtype=bool)\n",
    "\n",
    "    fig, axes = plt.subplots(3, 1, figsize=(12, 12), \n",
    "                             sharex=True, sharey=True)\n",
    "\n",
    "    ax = axes[0]\n",
    "    ax.plot(x[mask], y[mask], \"k\", label=\"data\")\n",
    "    \n",
    "    ax = axes[1]\n",
    "    ax.plot(x[mask], soln[\"heartbeat_light_curve\"], \"k\")\n",
    "    ax.set_ylabel(\"heartbeat [ppt]\", fontsize=y_fontsize)\n",
    "\n",
    "    ax = axes[2]\n",
    "    mod = soln['mean_flux'] + soln[\"heartbeat_light_curve\"]\n",
    "    ax.plot(x[mask], y[mask] - mod, \"k\")\n",
    "    ax.axhline(0, color=\"#aaaaaa\", lw=1)\n",
    "    ax.set_ylabel(\"residuals [ppt]\", fontsize=y_fontsize)\n",
    "    ax.set_xlim(x[mask].min(), x[mask].max())\n",
    "    ax.set_xlabel(\"time [days]\")\n",
    "    \n",
    "    fig.set_facecolor('w')\n",
    "    fig.tight_layout()\n",
    "\n",
    "    return fig"
   ]
  },
  {
   "cell_type": "code",
   "execution_count": null,
   "metadata": {},
   "outputs": [],
   "source": [
    "# _ = plot_hb_only_light_curve(lc_map_soln, sub_mask)\n",
    "_ = plot_hb_only_light_curve(map_estimate, sub_mask)"
   ]
  },
  {
   "cell_type": "markdown",
   "metadata": {},
   "source": [
    "---\n",
    "\n",
    "## Fit light curve and RVs"
   ]
  },
  {
   "cell_type": "code",
   "execution_count": null,
   "metadata": {},
   "outputs": [],
   "source": [
    "rv_span = np.max(x_rv) - np.min(x_rv)\n",
    "t_rv = np.arange(x_rv.min() - rv_span/10, \n",
    "                 x_rv.max() + rv_span/10, \n",
    "                 row['MAP_P'][0].to_value(u.day) / 128)\n",
    "\n",
    "\n",
    "def build_model(phot_mask=None, start=None):\n",
    "    if phot_mask is None:\n",
    "        phot_mask = np.ones(len(x), dtype=bool)\n",
    "        \n",
    "    with pm.Model() as model:\n",
    "\n",
    "        # Parameters for the stellar properties of the primary\n",
    "        BoundedNormal = pm.Bound(pm.Normal, lower=0.5, upper=3)\n",
    "        m_star = BoundedNormal(\"m_star\", mu=M_star[0], sd=M_star[1])\n",
    "        r_star = BoundedNormal(\"r_star\", mu=R_star[0], sd=R_star[1])\n",
    "\n",
    "        # Parameters of the companion\n",
    "        logm = pm.Normal(\"logm\", mu=np.log(msini.value), sd=1)  # companion mass\n",
    "        m_pl = pm.Deterministic(\"m_pl\", tt.exp(logm))\n",
    "        \n",
    "        # Parameters of the orbit\n",
    "        logP = pm.Normal(\"logP\", mu=np.log(rv_P), sd=1)\n",
    "        t_peri = pm.Normal(\"t_peri\", mu=rv_t0, sd=1, testval=rv_t0)\n",
    "        ecc = xo.distributions.eccentricity.kipping13(\n",
    "            \"ecc\", long=False, testval=0.59\n",
    "        )\n",
    "        omega = xo.distributions.Angle(\"omega\", testval=rv_omega)\n",
    "        period = pm.Deterministic(\"period\", tt.exp(logP))  # for tracking\n",
    "\n",
    "        # RV jitter\n",
    "        logs_rv = pm.Normal(\"logs_rv\", mu=np.log(500.), sd=0.1)  # MAP_s~350 m/s, but prob. bigger\n",
    "        rv0 = pm.Normal(\"rv0\", mu=0, sd=500.)  # m/s\n",
    "\n",
    "        # Flux jitter & GP parameters\n",
    "        logs2 = pm.Normal(\"logs2\", mu=np.log(np.var(y[phot_mask])), sd=2)\n",
    "        logw0 = pm.Normal(\"logw0\", mu=0., sd=3)\n",
    "        # logSw4 = pm.Normal(\"logSw4\", mu=np.log(np.var(y[phot_mask])), sd=0.2)\n",
    "        logSw4 = pm.Normal(\"logSw4\", mu=-4.5, sd=1)\n",
    "\n",
    "        # Orbit model\n",
    "        cosi = pm.Uniform('cosi', 0, 1)\n",
    "        incl = pm.Deterministic('incl', tt.arccos(cosi))\n",
    "        orbit = xo.orbits.KeplerianOrbit(\n",
    "            r_star=r_star,\n",
    "            m_star=m_star,\n",
    "            period=period,\n",
    "            t_periastron=t_peri,\n",
    "            incl=incl,\n",
    "            m_planet=xo.units.with_unit(m_pl, msini.unit),\n",
    "            ecc=ecc,\n",
    "            omega=omega,\n",
    "        )\n",
    "        \n",
    "        # ==============================================================\n",
    "        # Light curve:\n",
    "        #\n",
    "        mean_flux = pm.Normal(\"mean_flux\", mu=0.0, sd=1.0)\n",
    "        \n",
    "        # Compute the Heartbeat model\n",
    "        sinf, cosf = orbit._get_true_anomaly(x[phot_mask])\n",
    "        f = tt.arctan2(sinf, cosf)[:, 0]\n",
    "        pm.Deterministic(\"f\", f)\n",
    "        dX, dY, dZ = orbit.get_relative_position(x[phot_mask])\n",
    "        R = tt.sqrt(dX**2 + dY**2 + dZ**2)\n",
    "        logS = pm.Normal('logS', mu=-2.5, sd=0.1, testval=-2.5)\n",
    "        S = pm.Deterministic('S', tt.exp(logS))\n",
    "        hb_light_curve = S * (\n",
    "            (1 - 3 * tt.sin(incl)**2 * tt.sin(f - omega)**2) / (R / orbit.a)**3\n",
    "        )\n",
    "        pm.Deterministic(\"heartbeat_light_curve\", hb_light_curve)\n",
    "        \n",
    "        # GP model for the light curve\n",
    "        # Set up the Gaussian Process model\n",
    "        kernel = xo.gp.terms.SHOTerm(log_Sw4=logSw4, \n",
    "                                     log_w0=logw0, \n",
    "                                     Q=1 / np.sqrt(2))\n",
    "        gp = xo.gp.GP(kernel, x[phot_mask], \n",
    "                      yerr[phot_mask]**2 + tt.exp(logs2))\n",
    "        \n",
    "        pm.Potential(\"transit_obs\", \n",
    "                     gp.log_likelihood(y[phot_mask] - (hb_light_curve + mean_flux)))\n",
    "        pm.Deterministic(\"gp_pred\", gp.predict())\n",
    "        \n",
    "        # ==============================================================\n",
    "        # Radial velocity:\n",
    "        #\n",
    "        # Set up the RV model and save it as a deterministic\n",
    "        # for plotting purposes later\n",
    "        vrad = orbit.get_radial_velocity(x_rv)\n",
    "        pm.Deterministic(\"vrad\", vrad)\n",
    "\n",
    "        # The likelihood for the RVs\n",
    "        rv_model = pm.Deterministic(\"rv_model\", vrad + rv0)\n",
    "        err = tt.sqrt(yerr_rv ** 2 + tt.exp(2 * logs_rv))\n",
    "        pm.Normal(\"obs\", mu=rv_model, sd=err, observed=y_rv)\n",
    "\n",
    "        vrad_pred = orbit.get_radial_velocity(t_rv)\n",
    "        pm.Deterministic(\"vrad_pred\", vrad_pred)\n",
    "        bkg_pred = pm.Deterministic(\"bkg_pred\", rv0)\n",
    "        pm.Deterministic(\"rv_model_pred\", vrad_pred + bkg_pred)\n",
    "\n",
    "        # Fit for the maximum a posteriori parameters, I've found that I can get\n",
    "        # a better solution by trying different combinations of parameters in turn\n",
    "        if start is None:\n",
    "            start = model.test_point\n",
    "        map_soln = xo.optimize(start=start, vars=[logP, t_peri])\n",
    "        map_soln = xo.optimize(start=map_soln, vars=[logP, t_peri, omega, ecc, rv0, logs_rv])\n",
    "        map_soln = xo.optimize(start=map_soln, vars=[logS])\n",
    "        map_soln = xo.optimize(start=map_soln, vars=[logs2, logSw4])\n",
    "        map_soln = xo.optimize(start=map_soln, vars=[logw0])\n",
    "        map_soln = xo.optimize(start=map_soln, vars=[logP, t_peri, omega, ecc, rv0, logs_rv])\n",
    "        map_soln = xo.optimize(start=map_soln)\n",
    "\n",
    "    return model, map_soln"
   ]
  },
  {
   "cell_type": "code",
   "execution_count": null,
   "metadata": {},
   "outputs": [],
   "source": [
    "sub_mask = np.zeros(len(x), dtype=bool)\n",
    "sub_mask[:15000] = True\n",
    "sub_mask &= np.isfinite(y)"
   ]
  },
  {
   "cell_type": "code",
   "execution_count": null,
   "metadata": {},
   "outputs": [],
   "source": [
    "model0, map_soln0 = build_model(phot_mask=sub_mask)"
   ]
  },
  {
   "cell_type": "code",
   "execution_count": null,
   "metadata": {},
   "outputs": [],
   "source": [
    "# np.exp(map_soln0['logs_rv'])\n",
    "map_soln0['ecc'], map_soln0['logS']"
   ]
  },
  {
   "cell_type": "code",
   "execution_count": null,
   "metadata": {},
   "outputs": [],
   "source": [
    "np.exp(map_soln0['logSw4']), map_soln0['logSw4']"
   ]
  },
  {
   "cell_type": "code",
   "execution_count": null,
   "metadata": {},
   "outputs": [],
   "source": [
    "y_fontsize = 12\n",
    "\n",
    "def plot_light_curve(soln, mask=None):\n",
    "    if mask is None:\n",
    "        mask = np.ones(len(x), dtype=bool)\n",
    "\n",
    "    fig, axes = plt.subplots(4, 1, figsize=(12, 12), sharex=True, sharey=True)\n",
    "\n",
    "    ax = axes[0]\n",
    "    ax.plot(x[mask], y[mask], \"k\", label=\"data\")\n",
    "    gp_mod = soln[\"gp_pred\"] + soln[\"mean_flux\"]\n",
    "    ax.plot(x[mask], gp_mod, color=\"C2\", label=\"gp model\")\n",
    "    ax.legend(fontsize=10)\n",
    "    ax.set_ylabel(\"relative flux [ppt]\", fontsize=y_fontsize)\n",
    "\n",
    "    ax = axes[1]\n",
    "    ax.plot(x[mask], y[mask] - gp_mod, \"k\")\n",
    "    ax.set_ylabel(\"de-trended flux [ppt]\", fontsize=y_fontsize)\n",
    "    \n",
    "    ax = axes[2]\n",
    "    ax.plot(x[mask], soln[\"heartbeat_light_curve\"], \"k\")\n",
    "    ax.set_ylabel(\"heartbeat [ppt]\", fontsize=y_fontsize)\n",
    "\n",
    "    ax = axes[3]\n",
    "    mod = gp_mod + soln[\"heartbeat_light_curve\"]\n",
    "    ax.plot(x[mask], y[mask] - mod, \"k\")\n",
    "    ax.axhline(0, color=\"#aaaaaa\", lw=1)\n",
    "    ax.set_ylabel(\"residuals [ppt]\", fontsize=y_fontsize)\n",
    "    ax.set_xlim(x[mask].min(), x[mask].max())\n",
    "    ax.set_xlabel(\"time [days]\")\n",
    "    \n",
    "    fig.tight_layout()\n",
    "\n",
    "    return fig\n",
    "\n",
    "def plot_folded_residual(soln, mask=None):\n",
    "    if mask is None:\n",
    "        mask = np.ones(len(x), dtype=bool)\n",
    "\n",
    "    fig, ax = plt.subplots(1, 1, figsize=(8, 6))\n",
    "\n",
    "    mod = soln[\"gp_pred\"] + soln[\"mean_flux\"] + soln[\"heartbeat_light_curve\"]\n",
    "    resid = y[mask] - mod\n",
    "    phase = x[mask] % soln['period']\n",
    "    ax.plot(phase, y[mask] - mod, \n",
    "            marker='o', mew=0, ms=2., alpha=0.4,\n",
    "            ls='none', color=\"k\", label=\"residual\")\n",
    "    ax.legend(fontsize=10)\n",
    "    ax.set_ylabel(\"relative flux [ppt]\", fontsize=y_fontsize)\n",
    "\n",
    "    ax.set_xlabel(\"time [days]\")\n",
    "    \n",
    "    fig.tight_layout()\n",
    "\n",
    "    return fig\n",
    "\n",
    "def plot_rv_curve(soln):\n",
    "    err = np.sqrt(yerr_rv ** 2 + np.exp(2 * soln[\"logs_rv\"]))\n",
    "    \n",
    "    fig, axes = plt.subplots(2, 1, figsize=(10, 7))\n",
    "\n",
    "    ax = axes[0]\n",
    "    ax.errorbar((x_rv/soln['period']) % 1, y_rv, yerr=yerr_rv, \n",
    "                marker='o', ls='none', color='k')\n",
    "    ax.errorbar((x_rv/soln['period']) % 1, y_rv, yerr=err, \n",
    "                marker='', ls='none', color='tab:red', zorder=-100)\n",
    "    ax.plot((t_rv/soln['period']) % 1, soln[\"vrad_pred\"], \"--k\", alpha=0.5, color='tab:blue')\n",
    "    ax.plot((t_rv/soln['period']) % 1, soln[\"rv_model_pred\"], label=\"model\")\n",
    "    ax.legend(fontsize=10)\n",
    "    ax.set_ylabel(\"radial velocity [m/s]\", fontsize=y_fontsize)\n",
    "    ax.set_xlim(0, 1)\n",
    "\n",
    "    ax = axes[1]\n",
    "    ax.errorbar(x_rv, y_rv - soln[\"rv_model\"], yerr=yerr_rv, \n",
    "                marker='o', ls='none', color='k')\n",
    "    ax.errorbar(x_rv, y_rv - soln[\"rv_model\"], yerr=err, \n",
    "                marker='', ls='none', color='tab:red', zorder=-100)\n",
    "    ax.axhline(0, color=\"k\", lw=1)\n",
    "    ax.set_ylabel(\"residuals [m/s]\", fontsize=y_fontsize)\n",
    "    ax.set_xlim(t_rv.min(), t_rv.max())\n",
    "    ax.set_xlabel(\"time [days]\")\n",
    "    fig.tight_layout()"
   ]
  },
  {
   "cell_type": "code",
   "execution_count": null,
   "metadata": {},
   "outputs": [],
   "source": [
    "fig = plot_light_curve(map_soln0, mask=sub_mask)\n",
    "fig.axes[0].set_xlim(0, 300)\n",
    "fig.axes[0].set_ylim(-1, 1)\n",
    "fig.set_facecolor('w')"
   ]
  },
  {
   "cell_type": "code",
   "execution_count": null,
   "metadata": {},
   "outputs": [],
   "source": [
    "plot_rv_curve(map_soln0)"
   ]
  },
  {
   "cell_type": "markdown",
   "metadata": {},
   "source": [
    "Sigma clip the outliers:"
   ]
  },
  {
   "cell_type": "code",
   "execution_count": null,
   "metadata": {},
   "outputs": [],
   "source": [
    "_mask = sub_mask\n",
    "\n",
    "mod = (\n",
    "    map_soln0[\"gp_pred\"]\n",
    "    + map_soln0[\"mean_flux\"]\n",
    "    + map_soln0[\"heartbeat_light_curve\"]\n",
    ")\n",
    "resid = y[_mask] - mod\n",
    "rms = np.sqrt(np.median(resid ** 2))\n",
    "mask_iter1 = np.abs(resid) < 8 * rms\n",
    "\n",
    "plt.plot(x[_mask], resid, \"k\", label=\"data\")\n",
    "plt.plot(x[_mask][~mask_iter1], resid[~mask_iter1], \"xr\", mew=1, label=\"outliers\")\n",
    "plt.axhline(0, color=\"#aaaaaa\", lw=1)\n",
    "plt.ylabel(\"residuals [ppt]\")\n",
    "plt.xlabel(\"time [days]\")\n",
    "plt.legend(fontsize=12, loc=4)\n",
    "plt.xlim(x[_mask].min(), x[_mask].max());\n",
    "plt.axhline(7*rms)\n",
    "plt.axhline(-7*rms)"
   ]
  },
  {
   "cell_type": "code",
   "execution_count": null,
   "metadata": {},
   "outputs": [],
   "source": [
    "tmp_mask = sub_mask.copy()\n",
    "tmp_mask[:len(mask_iter1)] = mask_iter1\n",
    "model, map_soln1 = build_model(start=map_soln0, phot_mask=tmp_mask)"
   ]
  },
  {
   "cell_type": "code",
   "execution_count": null,
   "metadata": {},
   "outputs": [],
   "source": [
    "fig = plot_light_curve(map_soln1, tmp_mask);\n",
    "fig.axes[0].set_xlim(0, 100)\n",
    "fig.axes[0].set_ylim(-1, 1)\n",
    "fig.set_facecolor('w')"
   ]
  },
  {
   "cell_type": "code",
   "execution_count": null,
   "metadata": {},
   "outputs": [],
   "source": [
    "def plot_folded_residual(soln, mask=None):\n",
    "    if mask is None:\n",
    "        mask = np.ones(len(x), dtype=bool)\n",
    "\n",
    "    fig, ax = plt.subplots(1, 1, figsize=(8, 6))\n",
    "\n",
    "    mod = soln[\"gp_pred\"] + soln[\"mean_flux\"] + soln[\"heartbeat_light_curve\"]\n",
    "    resid = y[mask] - mod\n",
    "    phase = ((x[mask] - soln['t_peri']) / soln['period'] + 0.5) % 1. - 0.5\n",
    "    ax.plot(phase, y[mask] - mod, \n",
    "            marker='o', mew=0, ms=2., alpha=1,\n",
    "            ls='none', color=\"k\", label=\"residual\")\n",
    "    ax.legend(fontsize=10)\n",
    "    ax.set_xlim(-0.5, 0.5)\n",
    "    ax.set_ylabel(\"residual flux [ppt]\")\n",
    "    ax.set_xlabel(\"phase\")\n",
    "    \n",
    "    fig.tight_layout()\n",
    "\n",
    "    return fig\n",
    "\n",
    "fig = plot_folded_residual(map_soln1, tmp_mask)\n",
    "fig.axes[0].set_xlim(-0.1, 0.1)\n",
    "fig.set_facecolor('w')"
   ]
  },
  {
   "cell_type": "code",
   "execution_count": null,
   "metadata": {},
   "outputs": [],
   "source": [
    "plot_rv_curve(map_soln1)\n",
    "plt.gcf().set_facecolor('w')"
   ]
  },
  {
   "cell_type": "code",
   "execution_count": null,
   "metadata": {},
   "outputs": [],
   "source": [
    "np.degrees(map_soln1['incl'] * u.rad)"
   ]
  },
  {
   "cell_type": "code",
   "execution_count": null,
   "metadata": {},
   "outputs": [],
   "source": [
    "row['m2_min_50']"
   ]
  },
  {
   "cell_type": "code",
   "execution_count": null,
   "metadata": {},
   "outputs": [],
   "source": [
    "map_soln1['m_pl']"
   ]
  },
  {
   "cell_type": "code",
   "execution_count": null,
   "metadata": {},
   "outputs": [],
   "source": [
    "row['LOGG']"
   ]
  },
  {
   "cell_type": "code",
   "execution_count": null,
   "metadata": {},
   "outputs": [],
   "source": [
    "dflux = 0.15 / 1e3\n",
    "(np.sqrt(dflux) * R_star[0] * u.Rsun).to(u.Rjup)"
   ]
  },
  {
   "cell_type": "code",
   "execution_count": null,
   "metadata": {},
   "outputs": [],
   "source": [
    "np.exp(map_soln1['logP'])"
   ]
  },
  {
   "cell_type": "code",
   "execution_count": null,
   "metadata": {},
   "outputs": [],
   "source": [
    "map_soln1['ecc']"
   ]
  },
  {
   "cell_type": "code",
   "execution_count": null,
   "metadata": {},
   "outputs": [],
   "source": [
    "map_soln1['r_pl']"
   ]
  },
  {
   "cell_type": "code",
   "execution_count": null,
   "metadata": {},
   "outputs": [],
   "source": [
    "mass = map_soln1['m_pl'] * u.Msun\n",
    "mass.to(u.Mjup)"
   ]
  },
  {
   "cell_type": "code",
   "execution_count": null,
   "metadata": {},
   "outputs": [],
   "source": [
    "map_soln1['rotperiod']"
   ]
  },
  {
   "cell_type": "markdown",
   "metadata": {},
   "source": [
    "---"
   ]
  },
  {
   "cell_type": "code",
   "execution_count": null,
   "metadata": {},
   "outputs": [],
   "source": [
    "np.random.seed(123)\n",
    "with model:\n",
    "    trace = pm.sample(\n",
    "        tune=1000,\n",
    "        draws=1000,\n",
    "        start=map_soln1,\n",
    "        chains=4,\n",
    "        step=xo.get_dense_nuts_step(target_accept=0.9),\n",
    "    )"
   ]
  },
  {
   "cell_type": "code",
   "execution_count": null,
   "metadata": {},
   "outputs": [],
   "source": [
    "pm.summary(trace, var_names=[\"period\", \"r_pl\", \"m_pl\", \"ecc\", \"omega\", \"b\", \"rotperiod\"])"
   ]
  },
  {
   "cell_type": "code",
   "execution_count": null,
   "metadata": {},
   "outputs": [],
   "source": [
    "print(trace.varnames)"
   ]
  },
  {
   "cell_type": "code",
   "execution_count": null,
   "metadata": {},
   "outputs": [],
   "source": [
    "np.mean((trace['r_pl'] * u.Rsun).to(u.Rjup))"
   ]
  },
  {
   "cell_type": "code",
   "execution_count": null,
   "metadata": {},
   "outputs": [],
   "source": [
    "(np.mean(trace['m_pl'])*u.Msun).to(u.Mjup), (np.std(trace['m_pl'])*u.Msun).to(u.Mjup)"
   ]
  },
  {
   "cell_type": "code",
   "execution_count": null,
   "metadata": {},
   "outputs": [],
   "source": [
    "np.mean((trace['rotperiod'] * u.day))"
   ]
  },
  {
   "cell_type": "code",
   "execution_count": null,
   "metadata": {},
   "outputs": [],
   "source": [
    "np.mean(trace['ecc'])"
   ]
  },
  {
   "cell_type": "code",
   "execution_count": null,
   "metadata": {},
   "outputs": [],
   "source": [
    "np.mean(trace['m_star'])"
   ]
  },
  {
   "cell_type": "code",
   "execution_count": null,
   "metadata": {},
   "outputs": [],
   "source": [
    "plt.figure(figsize=(8, 5))\n",
    "\n",
    "# Get the posterior median orbital parameters\n",
    "p = np.median(trace[\"period\"])\n",
    "t0 = np.median(trace[\"t0\"])\n",
    "\n",
    "# Plot the folded data\n",
    "x_fold = (x_rv - t0 + 0.5 * p) % p - 0.5 * p\n",
    "plt.errorbar(x_fold, y_rv, yerr=yerr_rv, fmt=\".k\", label=\"data\")\n",
    "\n",
    "# Compute the posterior prediction for the folded RV model for this\n",
    "# planet\n",
    "t_fold = (t_rv - t0 + 0.5 * p) % p - 0.5 * p\n",
    "inds = np.argsort(t_fold)\n",
    "pred = np.percentile(trace[\"vrad_pred\"][:, inds], [16, 50, 84], axis=0)\n",
    "plt.plot(t_fold[inds], pred[1], color=\"C1\", label=\"model\", marker='')\n",
    "art = plt.fill_between(t_fold[inds], pred[0], pred[2], color=\"C1\", alpha=0.3)\n",
    "art.set_edgecolor(\"none\")\n",
    "\n",
    "plt.legend(fontsize=10)\n",
    "plt.xlim(-0.5 * p, 0.5 * p)\n",
    "plt.xlabel(\"phase [days]\")\n",
    "plt.ylabel(\"radial velocity [m/s]\")\n",
    "# plt.title(\"K2-24{0}\".format(letter));"
   ]
  },
  {
   "cell_type": "code",
   "execution_count": null,
   "metadata": {},
   "outputs": [],
   "source": [
    "plt.figure(figsize=(8, 5))\n",
    "\n",
    "# Compute the GP prediction\n",
    "gp_mod = np.median(trace[\"gp_pred\"] + trace[\"mean_flux\"][:, None], axis=0)\n",
    "\n",
    "# Get the posterior median orbital parameters\n",
    "p = np.median(trace[\"period\"])\n",
    "t0 = np.median(trace[\"t0\"])\n",
    "\n",
    "# Plot the folded data\n",
    "x_fold = (x[tmp_mask] - t0 + 0.5 * p) % p - 0.5 * p\n",
    "plt.plot(x_fold, y[tmp_mask] - gp_mod, \".k\", label=\"data\", zorder=-1000)\n",
    "\n",
    "# Plot the folded model\n",
    "inds = np.argsort(x_fold)\n",
    "inds = inds[np.abs(x_fold)[inds] < 0.3]\n",
    "pred = trace[\"transit_light_curves\"][:, inds, 0]\n",
    "pred = np.percentile(pred, [16, 50, 84], axis=0)\n",
    "plt.plot(x_fold[inds], pred[1], color=\"C1\", label=\"model\", marker='')\n",
    "art = plt.fill_between(\n",
    "    x_fold[inds], pred[0], pred[2], color=\"C1\", alpha=0.5, zorder=1000\n",
    ")\n",
    "art.set_edgecolor(\"none\")\n",
    "\n",
    "# Annotate the plot with the planet's period\n",
    "txt = \"period = {0:.4f} +/- {1:.4f} d\".format(\n",
    "    np.mean(trace[\"period\"]), np.std(trace[\"period\"])\n",
    ")\n",
    "\n",
    "plt.xlim(-0.5 * p, 0.5 * p)\n",
    "plt.xlabel(\"time since transit [days]\")\n",
    "plt.ylabel(\"de-trended flux\")\n",
    "# plt.title(\"K2-24{0}\".format(letter))\n",
    "plt.xlim(-0.3, 0.3)"
   ]
  }
 ],
 "metadata": {
  "kernelspec": {
   "display_name": "conda-hq",
   "language": "python",
   "name": "conda-hq"
  },
  "language_info": {
   "codemirror_mode": {
    "name": "ipython",
    "version": 3
   },
   "file_extension": ".py",
   "mimetype": "text/x-python",
   "name": "python",
   "nbconvert_exporter": "python",
   "pygments_lexer": "ipython3",
   "version": "3.7.5"
  }
 },
 "nbformat": 4,
 "nbformat_minor": 4
}
