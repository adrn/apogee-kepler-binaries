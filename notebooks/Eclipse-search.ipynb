{
 "cells": [
  {
   "cell_type": "code",
   "execution_count": null,
   "metadata": {},
   "outputs": [],
   "source": [
    "import os\n",
    "\n",
    "from astropy.io import fits\n",
    "from astropy.time import Time\n",
    "import astropy.table as at\n",
    "from astropy.timeseries import BoxLeastSquares\n",
    "from astropy.constants import G\n",
    "import astropy.coordinates as coord\n",
    "import astropy.units as u\n",
    "import h5py\n",
    "import matplotlib as mpl\n",
    "import matplotlib.pyplot as plt\n",
    "%matplotlib inline\n",
    "import numpy as np\n",
    "import requests\n",
    "from tqdm.notebook import tqdm\n",
    "import lightkurve as lk\n",
    "\n",
    "import thejoker as tj\n",
    "from hq.data import get_rvdata"
   ]
  },
  {
   "cell_type": "code",
   "execution_count": null,
   "metadata": {},
   "outputs": [],
   "source": [
    "binaries = at.Table.read('../catalogs/lnK0.0_logL4.6_metadata_gaia_starhorse.fits')\n",
    "gold = at.QTable(at.Table.read('../catalogs/gold_sample.fits').filled())"
   ]
  },
  {
   "cell_type": "code",
   "execution_count": null,
   "metadata": {},
   "outputs": [],
   "source": [
    "kepler = at.Table.read('/mnt/home/apricewhelan/data/Gaia-Kepler/kepler_dr2_4arcsec.fits')\n",
    "k2 = at.Table.read('/mnt/home/apricewhelan/data/Gaia-Kepler/k2_dr2_4arcsec.fits')\n",
    "\n",
    "kepler = kepler[kepler['kepler_gaia_ang_dist'] < 1.]\n",
    "k2 = k2[k2['k2_gaia_ang_dist'] < 1.]"
   ]
  },
  {
   "cell_type": "code",
   "execution_count": null,
   "metadata": {},
   "outputs": [],
   "source": [
    "master = kepler[np.abs(kepler['phot_g_mean_mag'] - kepler['kepmag']) < 1.]\n",
    "master['tm_designation'] = master['tm_designation'].astype(str)\n",
    "master = master[master['tm_designation'] != 'N/A']\n",
    "\n",
    "_, idx = np.unique(master['source_id'], return_index=True)\n",
    "master = master[idx]"
   ]
  },
  {
   "cell_type": "code",
   "execution_count": null,
   "metadata": {},
   "outputs": [],
   "source": [
    "gold_master = at.join(gold, master, keys='source_id', \n",
    "                      uniq_col_name='{col_name}{table_name}',\n",
    "                      table_names=['', '2'])\n",
    "\n",
    "binaries_master = at.join(binaries, master, keys='source_id', \n",
    "                          uniq_col_name='{col_name}{table_name}',\n",
    "                          table_names=['', '2'])"
   ]
  },
  {
   "cell_type": "markdown",
   "metadata": {},
   "source": [
    "## Cross-match known EBs:"
   ]
  },
  {
   "cell_type": "code",
   "execution_count": null,
   "metadata": {},
   "outputs": [],
   "source": [
    "kebs = at.Table.read('/mnt/home/apricewhelan/data/Gaia-Kepler/Kirk2016-Kepler-EBs.csv', \n",
    "                     format='ascii.commented_header', \n",
    "                     delimiter=',', header_start=7)"
   ]
  },
  {
   "cell_type": "code",
   "execution_count": null,
   "metadata": {},
   "outputs": [],
   "source": [
    "np.isin(kebs['KIC'], binaries_master['kepid']).sum()"
   ]
  },
  {
   "cell_type": "code",
   "execution_count": null,
   "metadata": {},
   "outputs": [],
   "source": [
    "np.isin(kebs['KIC'], gold_master['kepid']).sum()"
   ]
  },
  {
   "cell_type": "markdown",
   "metadata": {},
   "source": [
    "---\n",
    "\n",
    "## Look at light curve:"
   ]
  },
  {
   "cell_type": "code",
   "execution_count": null,
   "metadata": {},
   "outputs": [],
   "source": [
    "mask = (gold_master['MAP_P'] > 365*u.day) & (gold_master['MAP_P'] < 1000*u.day)\n",
    "mask.sum()"
   ]
  },
  {
   "cell_type": "code",
   "execution_count": null,
   "metadata": {},
   "outputs": [],
   "source": [
    "for row in gold_master[mask][5:]:\n",
    "    lcfs = lk.search_lightcurvefile(f\"KIC {row['kepid']}\", mission='Kepler').download_all()\n",
    "    stitched_lc = lcfs.PDCSAP_FLUX.stitch()\n",
    "    break"
   ]
  },
  {
   "cell_type": "code",
   "execution_count": null,
   "metadata": {},
   "outputs": [],
   "source": [
    "def get_transit_period(lc, rv_period=None):\n",
    "    \n",
    "    # Convert to parts per thousand\n",
    "    x = lc.astropy_time.tcb.jd\n",
    "    y = lc.flux\n",
    "    mu = np.nanmedian(y)\n",
    "    y = (y / mu - 1) * 1e3\n",
    "    yerr = lc.flux_err * 1e3\n",
    "\n",
    "    x_ref = np.min(x)\n",
    "    x = x - x_ref\n",
    "    \n",
    "    m = np.isfinite(y)\n",
    "    bls = BoxLeastSquares(x[m], y[m])\n",
    "\n",
    "    if rv_period is None:\n",
    "        period_grid = np.exp(np.linspace(np.log(1.5), np.log(200), 10000))\n",
    "    else:\n",
    "        logP = np.log(rv_period.to_value(u.day))\n",
    "        period_grid = np.exp(np.linspace(logP-1, logP+1, 10000))\n",
    "    \n",
    "    bls_power = bls.power(period_grid, 0.1, oversample=10)\n",
    "\n",
    "    # Save the highest peak as the planet candidate\n",
    "    index = np.argmax(bls_power.power)\n",
    "    bls_period = bls_power.period[index]\n",
    "    bls_t0 = bls_power.transit_time[index]\n",
    "    bls_depth = bls_power.depth[index]\n",
    "    \n",
    "    return Time(bls_t0 + x_ref, format='jd', scale='tcb'), bls_period"
   ]
  },
  {
   "cell_type": "code",
   "execution_count": null,
   "metadata": {},
   "outputs": [],
   "source": [
    "stitched_lc.plot()\n",
    "# plt.xlim(500, 750)\n",
    "# plt.ylim(0.99, 1.01)"
   ]
  },
  {
   "cell_type": "code",
   "execution_count": null,
   "metadata": {},
   "outputs": [],
   "source": [
    "stitched_lc.fold(row['MAP_P'].to_value(u.day)).plot()"
   ]
  },
  {
   "cell_type": "code",
   "execution_count": null,
   "metadata": {},
   "outputs": [],
   "source": [
    "bls_t0, bls_P = get_transit_period(stitched_lc) # , rv_period=500*u.day)"
   ]
  },
  {
   "cell_type": "code",
   "execution_count": null,
   "metadata": {},
   "outputs": [],
   "source": [
    "dmjd = stitched_lc.astropy_time.mjd.min() - stitched_lc.time.min()"
   ]
  },
  {
   "cell_type": "code",
   "execution_count": null,
   "metadata": {},
   "outputs": [],
   "source": [
    "stitched_lc.plot()\n",
    "for i in range(4):\n",
    "    plt.axvline(bls_t0.mjd - dmjd + i*bls_P, \n",
    "                marker='', color='tab:red')"
   ]
  },
  {
   "cell_type": "code",
   "execution_count": null,
   "metadata": {},
   "outputs": [],
   "source": [
    "stitched_lc.fold(bls_P, t0=bls_t0.mjd - dmjd).plot(ls='none', marker='o', ms=1.5, mew=0)\n",
    "# plt.xlim(-0.02, 0.02)"
   ]
  },
  {
   "cell_type": "code",
   "execution_count": null,
   "metadata": {},
   "outputs": [],
   "source": []
  }
 ],
 "metadata": {
  "kernelspec": {
   "display_name": "conda-hq",
   "language": "python",
   "name": "conda-hq"
  },
  "language_info": {
   "codemirror_mode": {
    "name": "ipython",
    "version": 3
   },
   "file_extension": ".py",
   "mimetype": "text/x-python",
   "name": "python",
   "nbconvert_exporter": "python",
   "pygments_lexer": "ipython3",
   "version": "3.7.5"
  }
 },
 "nbformat": 4,
 "nbformat_minor": 4
}
